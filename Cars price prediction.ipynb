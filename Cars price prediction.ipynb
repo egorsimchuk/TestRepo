{
 "cells": [
  {
   "cell_type": "markdown",
   "metadata": {},
   "source": [
    "**running time = 16 min** Intel i5-2450M 2500MHz / 4096Mb Memory / AMD Radeon HD 7600M"
   ]
  },
  {
   "cell_type": "markdown",
   "metadata": {},
   "source": [
    "Датасет состоит из характеристик импортированных автомобилей https://archive.ics.uci.edu/ml/datasets/automobile \n",
    "\n",
    "\n",
    "Варианты использования данных:\n",
    "- предсказывание марки авто **make** по его характеристикам, таким образом можно выявить \"индивидуальность\" автомобилей, если она есть. Индивидуальность может быть полезной для рекламирования продукта, а может быть и проблемой - пусть наша марка авто отличается от общего образа всех марок авто на рынке, то может быть получится увеличить продажи если приблизить характеристики нашего авто к конкурентам.\n",
    "- предсказывание индикатора риска **symboling** по всем имеющимся параметрам. Поможет корректировать стоимость страховки, вкупе с историей водителя получим наиболее оптимальную для страховой компании стоимость. Можно предоставлять сервис автолюбителям с выводом предполагаемой стоимости страховки по введенным характеристикам авто.\n",
    "- предсказывание потерь в цене страховки за год **normalized-losses**. Поможет страховой рассчитать план на будущее.\n",
    "- предсказывание цены автомобиля **price**. Поможет выставлять оптимальную цену на продаваемый автомобиль. Покупатель может заранее оценить сколько будет стоит авто с желаемыми характеристиками.\n",
    "- Подробный анализ датасета поможет понять какие автомобили пользуются спросом: какие характеристики, марки авто предпочитают покупатели. Правда для этого нужна дополнительная информация о количестве дней, за которые импортированный авто был продан. После анализа станет понятно на какие автомобили стоит делать напор по импорту.\n",
    "- Подбор машины клиенту, которая наиболее удовлетворяет его жеданиям. Построить модель, на вход которой в порядке убывания  значимости будут подаваться жедаемые качества, например: расход топлива, соотношение (габариты авто)/цена, соотношение (расход топлива)/(ширина авто)"
   ]
  },
  {
   "cell_type": "code",
   "execution_count": 1,
   "metadata": {},
   "outputs": [],
   "source": [
    "import pandas as pd\n",
    "import numpy as np\n",
    "import matplotlib.pyplot as plt\n",
    "import seaborn as sns\n",
    "pd.set_option('display.max_columns', 50)\n",
    "from tqdm import tqdm_notebook\n",
    "import matplotlib.lines as mlines\n",
    "\n",
    "from sklearn.linear_model import LinearRegression, Ridge, SGDRegressor, Lasso\n",
    "from sklearn.model_selection import StratifiedKFold, cross_val_score, KFold, train_test_split\n",
    "from sklearn.preprocessing import StandardScaler\n",
    "from sklearn.metrics import mean_squared_error, r2_score, make_scorer\n",
    "from sklearn.ensemble import GradientBoostingRegressor\n",
    "\n",
    "import warnings\n",
    "warnings.filterwarnings('ignore')\n",
    "\n",
    "import time\n",
    "start = time.time()"
   ]
  },
  {
   "cell_type": "code",
   "execution_count": 2,
   "metadata": {
    "scrolled": true
   },
   "outputs": [
    {
     "data": {
      "text/plain": [
       "(205, 26)"
      ]
     },
     "execution_count": 2,
     "metadata": {},
     "output_type": "execute_result"
    }
   ],
   "source": [
    "data_raw = pd.read_csv('dataset.csv', na_values='?')\n",
    "data_raw.shape"
   ]
  },
  {
   "cell_type": "markdown",
   "metadata": {},
   "source": [
    "Выделим категориальные признаки"
   ]
  },
  {
   "cell_type": "code",
   "execution_count": 3,
   "metadata": {
    "scrolled": false
   },
   "outputs": [
    {
     "data": {
      "text/plain": [
       "array(['make', 'fuel-type', 'aspiration', 'num-of-doors', 'body-style',\n",
       "       'drive-wheels', 'engine-location', 'engine-type',\n",
       "       'num-of-cylinders', 'fuel-system'], dtype=object)"
      ]
     },
     "execution_count": 3,
     "metadata": {},
     "output_type": "execute_result"
    }
   ],
   "source": [
    "cat_column_names = (data_raw.dtypes==np.dtype('O'))\n",
    "cat_column_names = cat_column_names[cat_column_names].index.values\n",
    "cat_column_names"
   ]
  },
  {
   "cell_type": "code",
   "execution_count": 4,
   "metadata": {
    "scrolled": true
   },
   "outputs": [
    {
     "name": "stdout",
     "output_type": "stream",
     "text": [
      "make {'alfa-romero': 3, 'audi': 7, 'bmw': 8, 'chevrolet': 3, 'dodge': 9, 'honda': 13, 'isuzu': 4, 'jaguar': 3, 'mazda': 17, 'mercedes-benz': 8, 'mercury': 1, 'mitsubishi': 13, 'nissan': 18, 'peugot': 11, 'plymouth': 7, 'porsche': 5, 'renault': 2, 'saab': 6, 'subaru': 12, 'toyota': 32, 'volkswagen': 12, 'volvo': 11}\n",
      "fuel-type {'diesel': 20, 'gas': 185}\n",
      "aspiration {'std': 168, 'turbo': 37}\n",
      "num-of-doors {'four': 114, 'two': 89}\n",
      "body-style {'convertible': 6, 'hardtop': 8, 'hatchback': 70, 'sedan': 96, 'wagon': 25}\n",
      "drive-wheels {'4wd': 9, 'fwd': 120, 'rwd': 76}\n",
      "engine-location {'front': 202, 'rear': 3}\n",
      "engine-type {'dohc': 12, 'dohcv': 1, 'l': 12, 'ohc': 148, 'ohcf': 15, 'ohcv': 13, 'rotor': 4}\n",
      "num-of-cylinders {'eight': 5, 'five': 11, 'four': 159, 'six': 24, 'three': 1, 'twelve': 1, 'two': 4}\n",
      "fuel-system {'1bbl': 11, '2bbl': 66, '4bbl': 3, 'idi': 20, 'mfi': 1, 'mpfi': 94, 'spdi': 9, 'spfi': 1}\n"
     ]
    }
   ],
   "source": [
    "for name in cat_column_names:\n",
    "    unique, counts = np.unique(data_raw[name].dropna(), return_counts=True)\n",
    "    print(name,dict(zip(unique, counts)))"
   ]
  },
  {
   "cell_type": "markdown",
   "metadata": {},
   "source": [
    "попадаются признаки где есть только один объект отдельной категории. Например num-of-cylinders = twelve "
   ]
  },
  {
   "cell_type": "markdown",
   "metadata": {},
   "source": [
    "#  Визуальный анализ данных"
   ]
  },
  {
   "cell_type": "code",
   "execution_count": 5,
   "metadata": {
    "scrolled": false
   },
   "outputs": [
    {
     "data": {
      "text/plain": [
       "[('toyota', 32),\n",
       " ('nissan', 18),\n",
       " ('mazda', 17),\n",
       " ('honda', 13),\n",
       " ('mitsubishi', 13),\n",
       " ('subaru', 12),\n",
       " ('volkswagen', 12),\n",
       " ('peugot', 11),\n",
       " ('volvo', 11),\n",
       " ('dodge', 9)]"
      ]
     },
     "metadata": {},
     "output_type": "display_data"
    },
    {
     "data": {
      "image/png": "[encoded data removed]",
      "text/plain": [
       "<matplotlib.figure.Figure at 0x11a64080>"
      ]
     },
     "metadata": {},
     "output_type": "display_data"
    }
   ],
   "source": [
    "unique, counts = np.unique(data_raw.make,return_counts=True)\n",
    "make_dict = dict(zip(unique, counts))\n",
    "make_dict = sorted(make_dict.items(),key=lambda x:x[1],reverse=True)\n",
    "display(make_dict[:10])\n",
    "data_raw.make.hist(xrot=90,bins=np.arange(len(unique)+1),figsize=(10, 5), align='left', rwidth=0.9)\n",
    "plt.ylabel('# of Occurrences')\n",
    "plt.title('cars distribution by make feature')\n",
    "plt.show()"
   ]
  },
  {
   "cell_type": "markdown",
   "metadata": {},
   "source": [
    "Посмотрим на корреляцию между вещественными признаками"
   ]
  },
  {
   "cell_type": "code",
   "execution_count": 6,
   "metadata": {
    "scrolled": false
   },
   "outputs": [
    {
     "data": {
      "text/plain": [
       "<matplotlib.axes._subplots.AxesSubplot at 0x13b127b8>"
      ]
     },
     "execution_count": 6,
     "metadata": {},
     "output_type": "execute_result"
    },
    {
     "data": {
      "image/png": "[encoded data removed]",
      "text/plain": [
       "<matplotlib.figure.Figure at 0x13acccf8>"
      ]
     },
     "metadata": {},
     "output_type": "display_data"
    }
   ],
   "source": [
    "corr = data_raw.drop(cat_column_names, axis=1).corr()\n",
    "sns.set(style=\"white\")\n",
    "\n",
    "mask = np.zeros_like(corr, dtype=np.bool)\n",
    "mask[np.triu_indices_from(mask)] = True\n",
    "\n",
    "f, ax = plt.subplots(figsize=(10, 10))\n",
    "cmap = sns.diverging_palette(220, 10, as_cmap=True)\n",
    "sns.heatmap(corr, mask=mask, cmap=cmap, annot=True, vmax=.3, center=0,\n",
    "            square=True, linewidths=.5, cbar_kws={\"shrink\": .5})"
   ]
  },
  {
   "cell_type": "markdown",
   "metadata": {},
   "source": [
    "Видим, что габариты сильно коррелированы. Выведем топ коррелированных признаков,  city-mpg highway-mpg сильно связаны, что логично."
   ]
  },
  {
   "cell_type": "code",
   "execution_count": 7,
   "metadata": {
    "scrolled": true
   },
   "outputs": [
    {
     "data": {
      "text/plain": [
       "length       width          0.841118\n",
       "width        length         0.841118\n",
       "curb-weight  engine-size    0.850594\n",
       "engine-size  curb-weight    0.850594\n",
       "width        curb-weight    0.867032\n",
       "curb-weight  width          0.867032\n",
       "engine-size  price          0.872335\n",
       "price        engine-size    0.872335\n",
       "length       wheel-base     0.874587\n",
       "wheel-base   length         0.874587\n",
       "curb-weight  length         0.877728\n",
       "length       curb-weight    0.877728\n",
       "highway-mpg  city-mpg       0.971337\n",
       "city-mpg     highway-mpg    0.971337\n",
       "symboling    symboling      1.000000\n",
       "dtype: float64"
      ]
     },
     "execution_count": 7,
     "metadata": {},
     "output_type": "execute_result"
    }
   ],
   "source": [
    "corr.abs().unstack().sort_values(kind=\"quicksort\")[-30:-15]"
   ]
  },
  {
   "cell_type": "markdown",
   "metadata": {},
   "source": [
    "Посмотрим на количество пропущенных значений в признаках"
   ]
  },
  {
   "cell_type": "code",
   "execution_count": 8,
   "metadata": {
    "scrolled": false
   },
   "outputs": [
    {
     "data": {
      "text/plain": [
       "normalized-losses    41\n",
       "num-of-doors          2\n",
       "bore                  4\n",
       "stroke                4\n",
       "horsepower            2\n",
       "peak-rpm              2\n",
       "price                 4\n",
       "dtype: int64"
      ]
     },
     "execution_count": 8,
     "metadata": {},
     "output_type": "execute_result"
    }
   ],
   "source": [
    "data_nulls = data_raw.isnull().sum()\n",
    "data_nulls[data_nulls!=0]"
   ]
  },
  {
   "cell_type": "markdown",
   "metadata": {},
   "source": [
    "Заполним пропуски в категориальных признаках (num-of-doors) наиболее встречающимися"
   ]
  },
  {
   "cell_type": "code",
   "execution_count": 9,
   "metadata": {},
   "outputs": [],
   "source": [
    "data_raw[cat_column_names] = data_raw[cat_column_names].apply(lambda x:x.fillna(x.value_counts().index[0]))"
   ]
  },
  {
   "cell_type": "markdown",
   "metadata": {},
   "source": [
    "## Обработка данных"
   ]
  },
  {
   "cell_type": "markdown",
   "metadata": {},
   "source": [
    "Сделаем OneHotEncoding категориальных признаков\n",
    "\n",
    "Не будем дропать объекты с нулевыми признаками, их и так мало. Заполним пропуски средними значениями"
   ]
  },
  {
   "cell_type": "code",
   "execution_count": 10,
   "metadata": {
    "scrolled": true
   },
   "outputs": [
    {
     "data": {
      "text/plain": [
       "(205, 76)"
      ]
     },
     "metadata": {},
     "output_type": "display_data"
    },
    {
     "data": {
      "text/html": [
       "<div>\n",
       "<style scoped>\n",
       "    .dataframe tbody tr th:only-of-type {\n",
       "        vertical-align: middle;\n",
       "    }\n",
       "\n",
       "    .dataframe tbody tr th {\n",
       "        vertical-align: top;\n",
       "    }\n",
       "\n",
       "    .dataframe thead th {\n",
       "        text-align: right;\n",
       "    }\n",
       "</style>\n",
       "<table border=\"1\" class=\"dataframe\">\n",
       "  <thead>\n",
       "    <tr style=\"text-align: right;\">\n",
       "      <th></th>\n",
       "      <th>symboling</th>\n",
       "      <th>normalized-losses</th>\n",
       "      <th>wheel-base</th>\n",
       "      <th>length</th>\n",
       "      <th>width</th>\n",
       "      <th>height</th>\n",
       "      <th>curb-weight</th>\n",
       "      <th>engine-size</th>\n",
       "      <th>bore</th>\n",
       "      <th>stroke</th>\n",
       "      <th>compression-ratio</th>\n",
       "      <th>horsepower</th>\n",
       "      <th>peak-rpm</th>\n",
       "      <th>city-mpg</th>\n",
       "      <th>highway-mpg</th>\n",
       "      <th>price</th>\n",
       "      <th>make_alfa-romero</th>\n",
       "      <th>make_audi</th>\n",
       "      <th>make_bmw</th>\n",
       "      <th>make_chevrolet</th>\n",
       "      <th>make_dodge</th>\n",
       "      <th>make_honda</th>\n",
       "      <th>make_isuzu</th>\n",
       "      <th>make_jaguar</th>\n",
       "      <th>make_mazda</th>\n",
       "      <th>...</th>\n",
       "      <th>drive-wheels_rwd</th>\n",
       "      <th>engine-location_front</th>\n",
       "      <th>engine-location_rear</th>\n",
       "      <th>engine-type_dohc</th>\n",
       "      <th>engine-type_dohcv</th>\n",
       "      <th>engine-type_l</th>\n",
       "      <th>engine-type_ohc</th>\n",
       "      <th>engine-type_ohcf</th>\n",
       "      <th>engine-type_ohcv</th>\n",
       "      <th>engine-type_rotor</th>\n",
       "      <th>num-of-cylinders_eight</th>\n",
       "      <th>num-of-cylinders_five</th>\n",
       "      <th>num-of-cylinders_four</th>\n",
       "      <th>num-of-cylinders_six</th>\n",
       "      <th>num-of-cylinders_three</th>\n",
       "      <th>num-of-cylinders_twelve</th>\n",
       "      <th>num-of-cylinders_two</th>\n",
       "      <th>fuel-system_1bbl</th>\n",
       "      <th>fuel-system_2bbl</th>\n",
       "      <th>fuel-system_4bbl</th>\n",
       "      <th>fuel-system_idi</th>\n",
       "      <th>fuel-system_mfi</th>\n",
       "      <th>fuel-system_mpfi</th>\n",
       "      <th>fuel-system_spdi</th>\n",
       "      <th>fuel-system_spfi</th>\n",
       "    </tr>\n",
       "  </thead>\n",
       "  <tbody>\n",
       "    <tr>\n",
       "      <th>0</th>\n",
       "      <td>3</td>\n",
       "      <td>122.0</td>\n",
       "      <td>88.6</td>\n",
       "      <td>168.8</td>\n",
       "      <td>64.1</td>\n",
       "      <td>48.8</td>\n",
       "      <td>2548</td>\n",
       "      <td>130</td>\n",
       "      <td>3.47</td>\n",
       "      <td>2.68</td>\n",
       "      <td>9.0</td>\n",
       "      <td>111.0</td>\n",
       "      <td>5000.0</td>\n",
       "      <td>21</td>\n",
       "      <td>27</td>\n",
       "      <td>13495.0</td>\n",
       "      <td>1</td>\n",
       "      <td>0</td>\n",
       "      <td>0</td>\n",
       "      <td>0</td>\n",
       "      <td>0</td>\n",
       "      <td>0</td>\n",
       "      <td>0</td>\n",
       "      <td>0</td>\n",
       "      <td>0</td>\n",
       "      <td>...</td>\n",
       "      <td>1</td>\n",
       "      <td>1</td>\n",
       "      <td>0</td>\n",
       "      <td>1</td>\n",
       "      <td>0</td>\n",
       "      <td>0</td>\n",
       "      <td>0</td>\n",
       "      <td>0</td>\n",
       "      <td>0</td>\n",
       "      <td>0</td>\n",
       "      <td>0</td>\n",
       "      <td>0</td>\n",
       "      <td>1</td>\n",
       "      <td>0</td>\n",
       "      <td>0</td>\n",
       "      <td>0</td>\n",
       "      <td>0</td>\n",
       "      <td>0</td>\n",
       "      <td>0</td>\n",
       "      <td>0</td>\n",
       "      <td>0</td>\n",
       "      <td>0</td>\n",
       "      <td>1</td>\n",
       "      <td>0</td>\n",
       "      <td>0</td>\n",
       "    </tr>\n",
       "    <tr>\n",
       "      <th>1</th>\n",
       "      <td>3</td>\n",
       "      <td>122.0</td>\n",
       "      <td>88.6</td>\n",
       "      <td>168.8</td>\n",
       "      <td>64.1</td>\n",
       "      <td>48.8</td>\n",
       "      <td>2548</td>\n",
       "      <td>130</td>\n",
       "      <td>3.47</td>\n",
       "      <td>2.68</td>\n",
       "      <td>9.0</td>\n",
       "      <td>111.0</td>\n",
       "      <td>5000.0</td>\n",
       "      <td>21</td>\n",
       "      <td>27</td>\n",
       "      <td>16500.0</td>\n",
       "      <td>1</td>\n",
       "      <td>0</td>\n",
       "      <td>0</td>\n",
       "      <td>0</td>\n",
       "      <td>0</td>\n",
       "      <td>0</td>\n",
       "      <td>0</td>\n",
       "      <td>0</td>\n",
       "      <td>0</td>\n",
       "      <td>...</td>\n",
       "      <td>1</td>\n",
       "      <td>1</td>\n",
       "      <td>0</td>\n",
       "      <td>1</td>\n",
       "      <td>0</td>\n",
       "      <td>0</td>\n",
       "      <td>0</td>\n",
       "      <td>0</td>\n",
       "      <td>0</td>\n",
       "      <td>0</td>\n",
       "      <td>0</td>\n",
       "      <td>0</td>\n",
       "      <td>1</td>\n",
       "      <td>0</td>\n",
       "      <td>0</td>\n",
       "      <td>0</td>\n",
       "      <td>0</td>\n",
       "      <td>0</td>\n",
       "      <td>0</td>\n",
       "      <td>0</td>\n",
       "      <td>0</td>\n",
       "      <td>0</td>\n",
       "      <td>1</td>\n",
       "      <td>0</td>\n",
       "      <td>0</td>\n",
       "    </tr>\n",
       "    <tr>\n",
       "      <th>2</th>\n",
       "      <td>1</td>\n",
       "      <td>122.0</td>\n",
       "      <td>94.5</td>\n",
       "      <td>171.2</td>\n",
       "      <td>65.5</td>\n",
       "      <td>52.4</td>\n",
       "      <td>2823</td>\n",
       "      <td>152</td>\n",
       "      <td>2.68</td>\n",
       "      <td>3.47</td>\n",
       "      <td>9.0</td>\n",
       "      <td>154.0</td>\n",
       "      <td>5000.0</td>\n",
       "      <td>19</td>\n",
       "      <td>26</td>\n",
       "      <td>16500.0</td>\n",
       "      <td>1</td>\n",
       "      <td>0</td>\n",
       "      <td>0</td>\n",
       "      <td>0</td>\n",
       "      <td>0</td>\n",
       "      <td>0</td>\n",
       "      <td>0</td>\n",
       "      <td>0</td>\n",
       "      <td>0</td>\n",
       "      <td>...</td>\n",
       "      <td>1</td>\n",
       "      <td>1</td>\n",
       "      <td>0</td>\n",
       "      <td>0</td>\n",
       "      <td>0</td>\n",
       "      <td>0</td>\n",
       "      <td>0</td>\n",
       "      <td>0</td>\n",
       "      <td>1</td>\n",
       "      <td>0</td>\n",
       "      <td>0</td>\n",
       "      <td>0</td>\n",
       "      <td>0</td>\n",
       "      <td>1</td>\n",
       "      <td>0</td>\n",
       "      <td>0</td>\n",
       "      <td>0</td>\n",
       "      <td>0</td>\n",
       "      <td>0</td>\n",
       "      <td>0</td>\n",
       "      <td>0</td>\n",
       "      <td>0</td>\n",
       "      <td>1</td>\n",
       "      <td>0</td>\n",
       "      <td>0</td>\n",
       "    </tr>\n",
       "    <tr>\n",
       "      <th>3</th>\n",
       "      <td>2</td>\n",
       "      <td>164.0</td>\n",
       "      <td>99.8</td>\n",
       "      <td>176.6</td>\n",
       "      <td>66.2</td>\n",
       "      <td>54.3</td>\n",
       "      <td>2337</td>\n",
       "      <td>109</td>\n",
       "      <td>3.19</td>\n",
       "      <td>3.40</td>\n",
       "      <td>10.0</td>\n",
       "      <td>102.0</td>\n",
       "      <td>5500.0</td>\n",
       "      <td>24</td>\n",
       "      <td>30</td>\n",
       "      <td>13950.0</td>\n",
       "      <td>0</td>\n",
       "      <td>1</td>\n",
       "      <td>0</td>\n",
       "      <td>0</td>\n",
       "      <td>0</td>\n",
       "      <td>0</td>\n",
       "      <td>0</td>\n",
       "      <td>0</td>\n",
       "      <td>0</td>\n",
       "      <td>...</td>\n",
       "      <td>0</td>\n",
       "      <td>1</td>\n",
       "      <td>0</td>\n",
       "      <td>0</td>\n",
       "      <td>0</td>\n",
       "      <td>0</td>\n",
       "      <td>1</td>\n",
       "      <td>0</td>\n",
       "      <td>0</td>\n",
       "      <td>0</td>\n",
       "      <td>0</td>\n",
       "      <td>0</td>\n",
       "      <td>1</td>\n",
       "      <td>0</td>\n",
       "      <td>0</td>\n",
       "      <td>0</td>\n",
       "      <td>0</td>\n",
       "      <td>0</td>\n",
       "      <td>0</td>\n",
       "      <td>0</td>\n",
       "      <td>0</td>\n",
       "      <td>0</td>\n",
       "      <td>1</td>\n",
       "      <td>0</td>\n",
       "      <td>0</td>\n",
       "    </tr>\n",
       "    <tr>\n",
       "      <th>4</th>\n",
       "      <td>2</td>\n",
       "      <td>164.0</td>\n",
       "      <td>99.4</td>\n",
       "      <td>176.6</td>\n",
       "      <td>66.4</td>\n",
       "      <td>54.3</td>\n",
       "      <td>2824</td>\n",
       "      <td>136</td>\n",
       "      <td>3.19</td>\n",
       "      <td>3.40</td>\n",
       "      <td>8.0</td>\n",
       "      <td>115.0</td>\n",
       "      <td>5500.0</td>\n",
       "      <td>18</td>\n",
       "      <td>22</td>\n",
       "      <td>17450.0</td>\n",
       "      <td>0</td>\n",
       "      <td>1</td>\n",
       "      <td>0</td>\n",
       "      <td>0</td>\n",
       "      <td>0</td>\n",
       "      <td>0</td>\n",
       "      <td>0</td>\n",
       "      <td>0</td>\n",
       "      <td>0</td>\n",
       "      <td>...</td>\n",
       "      <td>0</td>\n",
       "      <td>1</td>\n",
       "      <td>0</td>\n",
       "      <td>0</td>\n",
       "      <td>0</td>\n",
       "      <td>0</td>\n",
       "      <td>1</td>\n",
       "      <td>0</td>\n",
       "      <td>0</td>\n",
       "      <td>0</td>\n",
       "      <td>0</td>\n",
       "      <td>1</td>\n",
       "      <td>0</td>\n",
       "      <td>0</td>\n",
       "      <td>0</td>\n",
       "      <td>0</td>\n",
       "      <td>0</td>\n",
       "      <td>0</td>\n",
       "      <td>0</td>\n",
       "      <td>0</td>\n",
       "      <td>0</td>\n",
       "      <td>0</td>\n",
       "      <td>1</td>\n",
       "      <td>0</td>\n",
       "      <td>0</td>\n",
       "    </tr>\n",
       "  </tbody>\n",
       "</table>\n",
       "<p>5 rows × 76 columns</p>\n",
       "</div>"
      ],
      "text/plain": [
       "   symboling  normalized-losses  wheel-base  length  width  height  \\\n",
       "0          3              122.0        88.6   168.8   64.1    48.8   \n",
       "1          3              122.0        88.6   168.8   64.1    48.8   \n",
       "2          1              122.0        94.5   171.2   65.5    52.4   \n",
       "3          2              164.0        99.8   176.6   66.2    54.3   \n",
       "4          2              164.0        99.4   176.6   66.4    54.3   \n",
       "\n",
       "   curb-weight  engine-size  bore  stroke  compression-ratio  horsepower  \\\n",
       "0         2548          130  3.47    2.68                9.0       111.0   \n",
       "1         2548          130  3.47    2.68                9.0       111.0   \n",
       "2         2823          152  2.68    3.47                9.0       154.0   \n",
       "3         2337          109  3.19    3.40               10.0       102.0   \n",
       "4         2824          136  3.19    3.40                8.0       115.0   \n",
       "\n",
       "   peak-rpm  city-mpg  highway-mpg    price  make_alfa-romero  make_audi  \\\n",
       "0    5000.0        21           27  13495.0                 1          0   \n",
       "1    5000.0        21           27  16500.0                 1          0   \n",
       "2    5000.0        19           26  16500.0                 1          0   \n",
       "3    5500.0        24           30  13950.0                 0          1   \n",
       "4    5500.0        18           22  17450.0                 0          1   \n",
       "\n",
       "   make_bmw  make_chevrolet  make_dodge  make_honda  make_isuzu  make_jaguar  \\\n",
       "0         0               0           0           0           0            0   \n",
       "1         0               0           0           0           0            0   \n",
       "2         0               0           0           0           0            0   \n",
       "3         0               0           0           0           0            0   \n",
       "4         0               0           0           0           0            0   \n",
       "\n",
       "   make_mazda        ...         drive-wheels_rwd  engine-location_front  \\\n",
       "0           0        ...                        1                      1   \n",
       "1           0        ...                        1                      1   \n",
       "2           0        ...                        1                      1   \n",
       "3           0        ...                        0                      1   \n",
       "4           0        ...                        0                      1   \n",
       "\n",
       "   engine-location_rear  engine-type_dohc  engine-type_dohcv  engine-type_l  \\\n",
       "0                     0                 1                  0              0   \n",
       "1                     0                 1                  0              0   \n",
       "2                     0                 0                  0              0   \n",
       "3                     0                 0                  0              0   \n",
       "4                     0                 0                  0              0   \n",
       "\n",
       "   engine-type_ohc  engine-type_ohcf  engine-type_ohcv  engine-type_rotor  \\\n",
       "0                0                 0                 0                  0   \n",
       "1                0                 0                 0                  0   \n",
       "2                0                 0                 1                  0   \n",
       "3                1                 0                 0                  0   \n",
       "4                1                 0                 0                  0   \n",
       "\n",
       "   num-of-cylinders_eight  num-of-cylinders_five  num-of-cylinders_four  \\\n",
       "0                       0                      0                      1   \n",
       "1                       0                      0                      1   \n",
       "2                       0                      0                      0   \n",
       "3                       0                      0                      1   \n",
       "4                       0                      1                      0   \n",
       "\n",
       "   num-of-cylinders_six  num-of-cylinders_three  num-of-cylinders_twelve  \\\n",
       "0                     0                       0                        0   \n",
       "1                     0                       0                        0   \n",
       "2                     1                       0                        0   \n",
       "3                     0                       0                        0   \n",
       "4                     0                       0                        0   \n",
       "\n",
       "   num-of-cylinders_two  fuel-system_1bbl  fuel-system_2bbl  fuel-system_4bbl  \\\n",
       "0                     0                 0                 0                 0   \n",
       "1                     0                 0                 0                 0   \n",
       "2                     0                 0                 0                 0   \n",
       "3                     0                 0                 0                 0   \n",
       "4                     0                 0                 0                 0   \n",
       "\n",
       "   fuel-system_idi  fuel-system_mfi  fuel-system_mpfi  fuel-system_spdi  \\\n",
       "0                0                0                 1                 0   \n",
       "1                0                0                 1                 0   \n",
       "2                0                0                 1                 0   \n",
       "3                0                0                 1                 0   \n",
       "4                0                0                 1                 0   \n",
       "\n",
       "   fuel-system_spfi  \n",
       "0                 0  \n",
       "1                 0  \n",
       "2                 0  \n",
       "3                 0  \n",
       "4                 0  \n",
       "\n",
       "[5 rows x 76 columns]"
      ]
     },
     "execution_count": 10,
     "metadata": {},
     "output_type": "execute_result"
    }
   ],
   "source": [
    "data = data_raw.drop(cat_column_names,axis=1)\n",
    "\n",
    "cat_dict = {}\n",
    "for col_name in cat_column_names:\n",
    "    encoded = pd.get_dummies(data_raw.loc[:,col_name])\n",
    "    encoded.columns = ['_'.join([col_name,name]) for name in encoded.columns]\n",
    "    data = pd.concat([data,encoded],axis=1)\n",
    "    cat_dict[col_name] = encoded.shape[1]\n",
    "# display(cat_dict)\n",
    "display(data.shape)\n",
    "data = data.fillna(data.mean())\n",
    "data.head()"
   ]
  },
  {
   "cell_type": "markdown",
   "metadata": {},
   "source": [
    "Корреляция признаков с целевой переменной. Наибольшие по модулю значения будут иметь большие коэффициенты в линейной модели.\n",
    "Видно, что некоторые параметры автомобиля сильно коррелируют со стоимостью: размеры авто, размер двигателя, мощность."
   ]
  },
  {
   "cell_type": "code",
   "execution_count": 11,
   "metadata": {
    "scrolled": true
   },
   "outputs": [
    {
     "data": {
      "text/plain": [
       "highway-mpg               -0.690526\n",
       "num-of-cylinders_four     -0.679147\n",
       "city-mpg                  -0.667449\n",
       "drive-wheels_fwd          -0.589780\n",
       "fuel-system_2bbl          -0.491504\n",
       "engine-location_front     -0.331013\n",
       "engine-type_ohc           -0.329790\n",
       "body-style_hatchback      -0.289594\n",
       "make_toyota               -0.181977\n",
       "aspiration_std            -0.177285\n",
       "fuel-system_1bbl          -0.171443\n",
       "make_honda                -0.166491\n",
       "make_subaru               -0.148218\n",
       "make_dodge                -0.145550\n",
       "make_mitsubishi           -0.131516\n",
       "make_plymouth             -0.125606\n",
       "make_chevrolet            -0.111784\n",
       "make_nissan               -0.110332\n",
       "fuel-type_gas             -0.110207\n",
       "peak-rpm                  -0.100854\n",
       "make_volkswagen           -0.099417\n",
       "make_mazda                -0.097851\n",
       "symboling                 -0.082201\n",
       "drive-wheels_4wd          -0.071976\n",
       "num-of-cylinders_three    -0.071857\n",
       "fuel-system_spdi          -0.060514\n",
       "make_renault              -0.045676\n",
       "num-of-doors_two          -0.041945\n",
       "body-style_wagon          -0.039652\n",
       "make_isuzu                -0.038555\n",
       "                             ...   \n",
       "make_audi                  0.095514\n",
       "fuel-system_idi            0.110207\n",
       "fuel-type_diesel           0.110207\n",
       "normalized-losses          0.133999\n",
       "height                     0.134388\n",
       "body-style_sedan           0.146641\n",
       "make_volvo                 0.147311\n",
       "engine-type_dohc           0.155950\n",
       "aspiration_turbo           0.177285\n",
       "body-style_convertible     0.192085\n",
       "num-of-cylinders_twelve    0.203301\n",
       "body-style_hardtop         0.231087\n",
       "num-of-cylinders_five      0.242697\n",
       "make_porsche               0.293176\n",
       "engine-location_rear       0.331013\n",
       "make_bmw                   0.331473\n",
       "make_jaguar                0.332131\n",
       "engine-type_ohcv           0.394188\n",
       "num-of-cylinders_eight     0.414026\n",
       "num-of-cylinders_six       0.485454\n",
       "fuel-system_mpfi           0.504631\n",
       "make_mercedes-benz         0.524741\n",
       "bore                       0.532300\n",
       "wheel-base                 0.583168\n",
       "drive-wheels_rwd           0.632103\n",
       "length                     0.682986\n",
       "width                      0.728699\n",
       "horsepower                 0.757917\n",
       "curb-weight                0.820825\n",
       "engine-size                0.861752\n",
       "Length: 75, dtype: float64"
      ]
     },
     "execution_count": 11,
     "metadata": {},
     "output_type": "execute_result"
    }
   ],
   "source": [
    "data.drop(labels='price', axis=1).corrwith(data['price']).sort_values()"
   ]
  },
  {
   "cell_type": "code",
   "execution_count": 12,
   "metadata": {
    "scrolled": true
   },
   "outputs": [],
   "source": [
    "# scaler = StandardScaler()\n",
    "# scaled_columns = data.iloc[:,0:15]\n",
    "# scaled_columns = scaler.fit_transform(scaled_columns)\n",
    "# for i in range(scaled_columns.shape[1]):\n",
    "#     data.iloc[:,i] = scaled_columns[:,i]\n",
    "\n",
    "# data.head()"
   ]
  },
  {
   "cell_type": "markdown",
   "metadata": {},
   "source": [
    "## Тестирование моделей"
   ]
  },
  {
   "cell_type": "markdown",
   "metadata": {},
   "source": [
    "Перемешиваем данные и проверяем работу линейного регрессора"
   ]
  },
  {
   "cell_type": "code",
   "execution_count": 13,
   "metadata": {
    "scrolled": true
   },
   "outputs": [
    {
     "name": "stdout",
     "output_type": "stream",
     "text": [
      "8478404\n",
      "0.8764722550517651\n"
     ]
    },
    {
     "data": {
      "text/html": [
       "<div>\n",
       "<style scoped>\n",
       "    .dataframe tbody tr th:only-of-type {\n",
       "        vertical-align: middle;\n",
       "    }\n",
       "\n",
       "    .dataframe tbody tr th {\n",
       "        vertical-align: top;\n",
       "    }\n",
       "\n",
       "    .dataframe thead th {\n",
       "        text-align: right;\n",
       "    }\n",
       "</style>\n",
       "<table border=\"1\" class=\"dataframe\">\n",
       "  <thead>\n",
       "    <tr style=\"text-align: right;\">\n",
       "      <th></th>\n",
       "      <th>feature</th>\n",
       "      <th>coef in lasso</th>\n",
       "    </tr>\n",
       "  </thead>\n",
       "  <tbody>\n",
       "    <tr>\n",
       "      <th>0</th>\n",
       "      <td>fuel-type_diesel</td>\n",
       "      <td>0</td>\n",
       "    </tr>\n",
       "    <tr>\n",
       "      <th>1</th>\n",
       "      <td>aspiration_std</td>\n",
       "      <td>0</td>\n",
       "    </tr>\n",
       "    <tr>\n",
       "      <th>2</th>\n",
       "      <td>num-of-doors_four</td>\n",
       "      <td>0</td>\n",
       "    </tr>\n",
       "    <tr>\n",
       "      <th>3</th>\n",
       "      <td>engine-location_front</td>\n",
       "      <td>9.09909e-09</td>\n",
       "    </tr>\n",
       "    <tr>\n",
       "      <th>4</th>\n",
       "      <td>num-of-cylinders_six</td>\n",
       "      <td>0</td>\n",
       "    </tr>\n",
       "    <tr>\n",
       "      <th>5</th>\n",
       "      <td>fuel-system_idi</td>\n",
       "      <td>0</td>\n",
       "    </tr>\n",
       "  </tbody>\n",
       "</table>\n",
       "</div>"
      ],
      "text/plain": [
       "                 feature coef in lasso\n",
       "0       fuel-type_diesel             0\n",
       "1         aspiration_std             0\n",
       "2      num-of-doors_four             0\n",
       "3  engine-location_front   9.09909e-09\n",
       "4   num-of-cylinders_six             0\n",
       "5        fuel-system_idi             0"
      ]
     },
     "execution_count": 13,
     "metadata": {},
     "output_type": "execute_result"
    }
   ],
   "source": [
    "X = data.drop('price',axis=1)\n",
    "y = data['price']\n",
    "clf = Lasso(fit_intercept=True,normalize=True, max_iter=10000,alpha=0.001)\n",
    "\n",
    "X_train, X_test, y_train, y_test = train_test_split(X, y, shuffle=True,test_size=0.3, random_state=42)\n",
    "clf.fit(X_train, y_train)\n",
    "print(int(mean_squared_error(y_test,clf.predict(X_test))))\n",
    "print(r2_score(y_test,clf.predict(X_test)))\n",
    "abs_coefs = abs(clf.coef_)\n",
    "unimportant_cols_idx = np.where(abs_coefs<0.1)[0]\n",
    "unimportant_cols = data.columns.values[unimportant_cols_idx]\n",
    "pd.DataFrame(np.vstack((unimportant_cols,abs_coefs[unimportant_cols_idx])).T, columns = ['feature','coef in lasso'])"
   ]
  },
  {
   "cell_type": "markdown",
   "metadata": {},
   "source": [
    "По нулевым значениям коэффициентов в Lasso можно производить отбор признаков"
   ]
  },
  {
   "cell_type": "markdown",
   "metadata": {},
   "source": [
    "Построим разные модели. Сравниваем модели по коэффиценту детерминации r2_score https://en.wikipedia.org/wiki/Coefficient_of_determination усредненному по 10 экспериментам."
   ]
  },
  {
   "cell_type": "code",
   "execution_count": 14,
   "metadata": {},
   "outputs": [],
   "source": [
    "def get_score(clf,unused_features=[]):\n",
    "    X = data.drop(np.hstack((unused_features,['price'])),axis=1)\n",
    "    y = data['price']\n",
    "    kfold = KFold(n_splits=10, shuffle=True,random_state=42)\n",
    "    score = np.mean(cross_val_score(clf, X, y, cv=kfold, scoring=make_scorer(r2_score)))\n",
    "    return score"
   ]
  },
  {
   "cell_type": "code",
   "execution_count": 15,
   "metadata": {},
   "outputs": [
    {
     "data": {
      "text/plain": [
       "0.8305233449178362"
      ]
     },
     "execution_count": 15,
     "metadata": {},
     "output_type": "execute_result"
    }
   ],
   "source": [
    "get_score(Lasso(fit_intercept=True,normalize=True, max_iter=10000))"
   ]
  },
  {
   "cell_type": "code",
   "execution_count": 16,
   "metadata": {},
   "outputs": [
    {
     "data": {
      "text/plain": [
       "0.8319707010310129"
      ]
     },
     "execution_count": 16,
     "metadata": {},
     "output_type": "execute_result"
    }
   ],
   "source": [
    "# с вычетом highway-mpg\n",
    "get_score(Lasso(fit_intercept=True,normalize=True, max_iter=10000),['highway-mpg'])"
   ]
  },
  {
   "cell_type": "code",
   "execution_count": 17,
   "metadata": {},
   "outputs": [
    {
     "data": {
      "text/plain": [
       "0.8170806433928794"
      ]
     },
     "execution_count": 17,
     "metadata": {},
     "output_type": "execute_result"
    }
   ],
   "source": [
    "get_score(LinearRegression(fit_intercept=True,normalize=False))"
   ]
  },
  {
   "cell_type": "code",
   "execution_count": 18,
   "metadata": {},
   "outputs": [
    {
     "data": {
      "text/plain": [
       "0.816784121223739"
      ]
     },
     "execution_count": 18,
     "metadata": {},
     "output_type": "execute_result"
    }
   ],
   "source": [
    "get_score(LinearRegression(fit_intercept=True,normalize=False),['highway-mpg'])"
   ]
  },
  {
   "cell_type": "code",
   "execution_count": 19,
   "metadata": {},
   "outputs": [
    {
     "data": {
      "text/plain": [
       "0.8288044616085681"
      ]
     },
     "execution_count": 19,
     "metadata": {},
     "output_type": "execute_result"
    }
   ],
   "source": [
    "get_score(Ridge(fit_intercept=True,normalize=True))"
   ]
  },
  {
   "cell_type": "code",
   "execution_count": 20,
   "metadata": {
    "scrolled": true
   },
   "outputs": [
    {
     "data": {
      "text/plain": [
       "0.8289588791351056"
      ]
     },
     "execution_count": 20,
     "metadata": {},
     "output_type": "execute_result"
    }
   ],
   "source": [
    "get_score(Ridge(fit_intercept=True,normalize=True),['highway-mpg'])"
   ]
  },
  {
   "cell_type": "code",
   "execution_count": 21,
   "metadata": {},
   "outputs": [
    {
     "data": {
      "text/plain": [
       "-1.2642679277809528e+25"
      ]
     },
     "execution_count": 21,
     "metadata": {},
     "output_type": "execute_result"
    }
   ],
   "source": [
    "get_score(SGDRegressor(penalty='l1', max_iter=1000000,tol=0.000001))"
   ]
  },
  {
   "cell_type": "code",
   "execution_count": 22,
   "metadata": {},
   "outputs": [
    {
     "name": "stdout",
     "output_type": "stream",
     "text": [
      "0.7824182814357484\n",
      "Wall time: 27.2 s\n"
     ]
    }
   ],
   "source": [
    "%%time\n",
    "params = {'n_estimators': 500, 'max_depth': 7,\n",
    "        'learning_rate': 0.1, 'loss': 'huber','alpha':0.95}\n",
    "clf = GradientBoostingRegressor(**params)\n",
    "print(get_score(clf))"
   ]
  },
  {
   "cell_type": "markdown",
   "metadata": {},
   "source": [
    "## Подбор оптимальных параметров для регрессии с l1 регуляризацией.\n",
    "Она быстро фитуется и показывает хороший score. С удалением highway-mpg еще лучше"
   ]
  },
  {
   "cell_type": "code",
   "execution_count": 23,
   "metadata": {},
   "outputs": [],
   "source": [
    "def find_opt(clf, coef, _range, unused_features=[]):\n",
    "    score_list = list()\n",
    "\n",
    "    X = data.drop(np.hstack((unused_features,['price'])),axis=1)\n",
    "    y = data['price']\n",
    "    with tqdm_notebook(total=len(_range),desc='processing') as pbar:\n",
    "        for k in _range:\n",
    "            clf.set_params(**{coef:k})\n",
    "            kfold = KFold(n_splits=10, shuffle=True,random_state=42)\n",
    "            score = np.mean(cross_val_score(clf, X, y, cv=kfold, scoring=make_scorer(r2_score)))\n",
    "            score = score.mean() \n",
    "            score_list.append([k,score])\n",
    "            pbar.update(1)\n",
    "        \n",
    "        \n",
    "    score_list = np.array(score_list)\n",
    "    score_list[score_list[:,1].argmin()]\n",
    "    par_max = score_list[score_list[:,1].argmax()]\n",
    "    print('min point ', par_max)\n",
    "    plt.figure(figsize=(14,7))\n",
    "    plt.plot(score_list[:,0],score_list[:,1])\n",
    "    plt.scatter(par_max[0],par_max[1],c='r')\n",
    "    plt.title(f'optimization of {coef} parameter', fontsize=15)\n",
    "    plt.ylabel('r2_score', fontsize=15)\n",
    "    plt.xlabel(coef, fontsize=15)\n",
    "    plt.tick_params(labelsize=15)\n",
    "    plt.show()\n",
    "    return par_max"
   ]
  },
  {
   "cell_type": "code",
   "execution_count": 24,
   "metadata": {
    "scrolled": false
   },
   "outputs": [
    {
     "data": {
      "application/vnd.jupyter.widget-view+json": {
       "model_id": "3bf085687fd348f88716541df5522e28",
       "version_major": 2,
       "version_minor": 0
      },
      "text/html": [
       "<p>Failed to display Jupyter Widget of type <code>HBox</code>.</p>\n",
       "<p>\n",
       "  If you're reading this message in the Jupyter Notebook or JupyterLab Notebook, it may mean\n",
       "  that the widgets JavaScript is still loading. If this message persists, it\n",
       "  likely means that the widgets JavaScript library is either not installed or\n",
       "  not enabled. See the <a href=\"https://ipywidgets.readthedocs.io/en/stable/user_install.html\">Jupyter\n",
       "  Widgets Documentation</a> for setup instructions.\n",
       "</p>\n",
       "<p>\n",
       "  If you're reading this message in another frontend (for example, a static\n",
       "  rendering on GitHub or <a href=\"https://nbviewer.jupyter.org/\">NBViewer</a>),\n",
       "  it may mean that your frontend doesn't currently support widgets.\n",
       "</p>\n"
      ],
      "text/plain": [
       "HBox(children=(IntProgress(value=0, description='processing', max=300), HTML(value='')))"
      ]
     },
     "metadata": {},
     "output_type": "display_data"
    },
    {
     "name": "stdout",
     "output_type": "stream",
     "text": [
      "\n",
      "min point  [0.00669893 0.83739474]\n"
     ]
    },
    {
     "data": {
      "image/png": "[encoded data removed]",
      "text/plain": [
       "<matplotlib.figure.Figure at 0x13cc3f98>"
      ]
     },
     "metadata": {},
     "output_type": "display_data"
    },
    {
     "data": {
      "text/plain": [
       "array([0.00669893, 0.83739474])"
      ]
     },
     "execution_count": 24,
     "metadata": {},
     "output_type": "execute_result"
    }
   ],
   "source": [
    "find_opt(Lasso(fit_intercept=True,normalize=True, max_iter=10000), 'alpha', np.linspace(0.00001,2,num=300),['highway-mpg'])"
   ]
  },
  {
   "cell_type": "markdown",
   "metadata": {},
   "source": [
    "Приблизим окно подбора"
   ]
  },
  {
   "cell_type": "code",
   "execution_count": 25,
   "metadata": {
    "scrolled": false
   },
   "outputs": [
    {
     "data": {
      "application/vnd.jupyter.widget-view+json": {
       "model_id": "aa6f18f6d0ed42e286cb1b7cec3acd55",
       "version_major": 2,
       "version_minor": 0
      },
      "text/html": [
       "<p>Failed to display Jupyter Widget of type <code>HBox</code>.</p>\n",
       "<p>\n",
       "  If you're reading this message in the Jupyter Notebook or JupyterLab Notebook, it may mean\n",
       "  that the widgets JavaScript is still loading. If this message persists, it\n",
       "  likely means that the widgets JavaScript library is either not installed or\n",
       "  not enabled. See the <a href=\"https://ipywidgets.readthedocs.io/en/stable/user_install.html\">Jupyter\n",
       "  Widgets Documentation</a> for setup instructions.\n",
       "</p>\n",
       "<p>\n",
       "  If you're reading this message in another frontend (for example, a static\n",
       "  rendering on GitHub or <a href=\"https://nbviewer.jupyter.org/\">NBViewer</a>),\n",
       "  it may mean that your frontend doesn't currently support widgets.\n",
       "</p>\n"
      ],
      "text/plain": [
       "HBox(children=(IntProgress(value=0, description='processing', max=300), HTML(value='')))"
      ]
     },
     "metadata": {},
     "output_type": "display_data"
    },
    {
     "name": "stdout",
     "output_type": "stream",
     "text": [
      "\n",
      "min point  [0.00398595 0.83804517]\n"
     ]
    },
    {
     "data": {
      "image/png": "[encoded data removed]",
      "text/plain": [
       "<matplotlib.figure.Figure at 0x13cc37f0>"
      ]
     },
     "metadata": {},
     "output_type": "display_data"
    }
   ],
   "source": [
    "alpha_opt, _ = find_opt(Lasso(fit_intercept=True,normalize=True, max_iter=10000), 'alpha',\n",
    "                        np.linspace(0.00001,0.01,num=300),['highway-mpg'] )"
   ]
  },
  {
   "cell_type": "markdown",
   "metadata": {},
   "source": [
    "# Проверим работу наилучшей модели"
   ]
  },
  {
   "cell_type": "code",
   "execution_count": 35,
   "metadata": {},
   "outputs": [
    {
     "name": "stdout",
     "output_type": "stream",
     "text": [
      "(205, 74)\n",
      "best model r2_score = 0.8758010606420552\n"
     ]
    }
   ],
   "source": [
    "X = data.drop(['highway-mpg','price'],axis=1)\n",
    "y = data['price']\n",
    "clf = Lasso(fit_intercept=True,normalize=True, max_iter=10000, alpha=alpha_opt)\n",
    "X_train, X_test, y_train, y_test = train_test_split(X, y, shuffle=True,test_size=0.3, random_state=42)\n",
    "clf.fit(X_train,y_train)\n",
    "print(X.shape)\n",
    "print('best model r2_score = {}'.format(r2_score(y_test,clf.predict(X_test))))"
   ]
  },
  {
   "cell_type": "code",
   "execution_count": 36,
   "metadata": {
    "scrolled": false
   },
   "outputs": [
    {
     "data": {
      "image/png": "[encoded data removed]",
      "text/plain": [
       "<matplotlib.figure.Figure at 0x147d6940>"
      ]
     },
     "metadata": {},
     "output_type": "display_data"
    }
   ],
   "source": [
    "plt.rcParams[\"figure.figsize\"] = [10,7]\n",
    "plt.scatter(y_test,clf.predict(X_test), label='30% test points')\n",
    "plt.xlabel('true values',fontsize=15)\n",
    "plt.ylabel('predicted values',fontsize=15)\n",
    "plt.title('Illustration of car price predictions',fontsize=15)\n",
    "plt.plot([np.min(y_test),np.max(y_test)],[np.min(y_test),np.max(y_test)], c='g', label='best line')\n",
    "plt.legend(loc=\"upper left\", fontsize=15)\n",
    "plt.show()"
   ]
  },
  {
   "cell_type": "markdown",
   "metadata": {},
   "source": [
    "Данных недостаточно для достижения хорошей точности, но все равно приближение неплохое. r2_score = 0.87675"
   ]
  },
  {
   "cell_type": "markdown",
   "metadata": {},
   "source": [
    "При наличии времени можно сделать следующее:\n",
    "-больше поработал с признаками, подумал как лучше обрабатывать редкие значения в категориальных признаках\n",
    "-реализовал предсказание пропущенных значений в признаках по значениям других признаков\n",
    "-протестировал приведение symboling к категориальному признаку\n",
    "-отбор признаков, из имеющихся признаков выбрал наиболее оптимальный набор методом add-del\n",
    "-попробовал создать новые признаки\n",
    "-протестировал все виды деревьев и линейных моделей.\n",
    "-в идеальном случае подобрать оптимальные параметры на топ-5 моделях (со дефолтными параметрами) и после этого выбрать "
   ]
  },
  {
   "cell_type": "code",
   "execution_count": 29,
   "metadata": {},
   "outputs": [
    {
     "name": "stdout",
     "output_type": "stream",
     "text": [
      "running time = 957.1 sec\n"
     ]
    }
   ],
   "source": [
    "print('running time = {} sec'.format(round(time.time() - start,1)))"
   ]
  }
 ],
 "metadata": {
  "kernelspec": {
   "display_name": "Python 3",
   "language": "python",
   "name": "python3"
  },
  "language_info": {
   "codemirror_mode": {
    "name": "ipython",
    "version": 3
   },
   "file_extension": ".py",
   "mimetype": "text/x-python",
   "name": "python",
   "nbconvert_exporter": "python",
   "pygments_lexer": "ipython3",
   "version": "3.6.4"
  }
 },
 "nbformat": 4,
 "nbformat_minor": 2
}
