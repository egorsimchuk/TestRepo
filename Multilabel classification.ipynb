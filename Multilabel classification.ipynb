{
 "cells": [
  {
   "cell_type": "markdown",
   "metadata": {},
   "source": [
    "**running time = 55 min** Intel i5-2450M 2500MHz / 4096Mb Memory / AMD Radeon HD 7600M"
   ]
  },
  {
   "cell_type": "markdown",
   "metadata": {},
   "source": [
    "В файле problem_train.csv в каждой строке содержится информация об\n",
    "объекте с уникальным идентификатором, заданным в столбце id.\n",
    "\n",
    "В файле\n",
    "problem_labels.csv для каждого id из файла problem_train.csv приведена\n",
    "информация о принадлежности к 14 категориям. \n",
    "\n",
    "Цель задачи предсказать вероятности принадлежности к тому или иному классу по входным данным problem_test.csv\n",
    "\n",
    "Для оценки качества полученного результата будет использоваться\n",
    "метрика LogLoss. По каждой из 14 категорий метрика считается независимо,\n",
    "затем берется среднее арифметическое значений метрик, полученных для\n",
    "категорий."
   ]
  },
  {
   "cell_type": "code",
   "execution_count": 36,
   "metadata": {},
   "outputs": [],
   "source": [
    "import pandas as pd\n",
    "import numpy as np\n",
    "import matplotlib.pyplot as plt\n",
    "\n",
    "from sklearn.linear_model import LogisticRegression\n",
    "from sklearn.model_selection import train_test_split \n",
    "from sklearn.metrics import log_loss\n",
    "import time"
   ]
  },
  {
   "cell_type": "markdown",
   "metadata": {},
   "source": [
    "# Предварительный анализ данных"
   ]
  },
  {
   "cell_type": "code",
   "execution_count": 34,
   "metadata": {},
   "outputs": [],
   "source": [
    "data = pd.read_csv('problem_train.csv', delimiter=',',low_memory=False)\n",
    "data_predict = pd.read_csv('problem_test.csv', delimiter=',',low_memory=False)\n",
    "labels = pd.read_csv('problem_labels.csv', delimiter=',')"
   ]
  },
  {
   "cell_type": "code",
   "execution_count": 35,
   "metadata": {},
   "outputs": [
    {
     "data": {
      "text/html": [
       "<div>\n",
       "<style scoped>\n",
       "    .dataframe tbody tr th:only-of-type {\n",
       "        vertical-align: middle;\n",
       "    }\n",
       "\n",
       "    .dataframe tbody tr th {\n",
       "        vertical-align: top;\n",
       "    }\n",
       "\n",
       "    .dataframe thead th {\n",
       "        text-align: right;\n",
       "    }\n",
       "</style>\n",
       "<table border=\"1\" class=\"dataframe\">\n",
       "  <thead>\n",
       "    <tr style=\"text-align: right;\">\n",
       "      <th></th>\n",
       "      <th>id</th>\n",
       "      <th>release</th>\n",
       "      <th>n_0000</th>\n",
       "      <th>n_0001</th>\n",
       "      <th>n_0002</th>\n",
       "      <th>n_0003</th>\n",
       "      <th>n_0004</th>\n",
       "      <th>n_0005</th>\n",
       "      <th>n_0006</th>\n",
       "      <th>n_0007</th>\n",
       "      <th>...</th>\n",
       "      <th>c_1368</th>\n",
       "      <th>c_1369</th>\n",
       "      <th>c_1370</th>\n",
       "      <th>c_1371</th>\n",
       "      <th>c_1372</th>\n",
       "      <th>c_1373</th>\n",
       "      <th>c_1374</th>\n",
       "      <th>c_1375</th>\n",
       "      <th>c_1376</th>\n",
       "      <th>c_1377</th>\n",
       "    </tr>\n",
       "  </thead>\n",
       "  <tbody>\n",
       "    <tr>\n",
       "      <th>0</th>\n",
       "      <td>11193</td>\n",
       "      <td>a</td>\n",
       "      <td>NaN</td>\n",
       "      <td>NaN</td>\n",
       "      <td>0.025449</td>\n",
       "      <td>NaN</td>\n",
       "      <td>NaN</td>\n",
       "      <td>0.368421</td>\n",
       "      <td>NaN</td>\n",
       "      <td>NaN</td>\n",
       "      <td>...</td>\n",
       "      <td>NaN</td>\n",
       "      <td>NaN</td>\n",
       "      <td>NaN</td>\n",
       "      <td>NaN</td>\n",
       "      <td>a</td>\n",
       "      <td>NaN</td>\n",
       "      <td>q</td>\n",
       "      <td>NaN</td>\n",
       "      <td>NaN</td>\n",
       "      <td>NaN</td>\n",
       "    </tr>\n",
       "    <tr>\n",
       "      <th>1</th>\n",
       "      <td>11382</td>\n",
       "      <td>a</td>\n",
       "      <td>NaN</td>\n",
       "      <td>NaN</td>\n",
       "      <td>0.031297</td>\n",
       "      <td>NaN</td>\n",
       "      <td>NaN</td>\n",
       "      <td>0.315789</td>\n",
       "      <td>NaN</td>\n",
       "      <td>NaN</td>\n",
       "      <td>...</td>\n",
       "      <td>NaN</td>\n",
       "      <td>NaN</td>\n",
       "      <td>a</td>\n",
       "      <td>NaN</td>\n",
       "      <td>a</td>\n",
       "      <td>NaN</td>\n",
       "      <td>NaN</td>\n",
       "      <td>NaN</td>\n",
       "      <td>NaN</td>\n",
       "      <td>NaN</td>\n",
       "    </tr>\n",
       "    <tr>\n",
       "      <th>2</th>\n",
       "      <td>16531</td>\n",
       "      <td>a</td>\n",
       "      <td>NaN</td>\n",
       "      <td>NaN</td>\n",
       "      <td>0.024475</td>\n",
       "      <td>NaN</td>\n",
       "      <td>NaN</td>\n",
       "      <td>0.342105</td>\n",
       "      <td>NaN</td>\n",
       "      <td>NaN</td>\n",
       "      <td>...</td>\n",
       "      <td>NaN</td>\n",
       "      <td>NaN</td>\n",
       "      <td>a</td>\n",
       "      <td>NaN</td>\n",
       "      <td>a</td>\n",
       "      <td>NaN</td>\n",
       "      <td>b</td>\n",
       "      <td>NaN</td>\n",
       "      <td>NaN</td>\n",
       "      <td>NaN</td>\n",
       "    </tr>\n",
       "    <tr>\n",
       "      <th>3</th>\n",
       "      <td>1896</td>\n",
       "      <td>a</td>\n",
       "      <td>NaN</td>\n",
       "      <td>NaN</td>\n",
       "      <td>0.041694</td>\n",
       "      <td>NaN</td>\n",
       "      <td>NaN</td>\n",
       "      <td>0.447368</td>\n",
       "      <td>NaN</td>\n",
       "      <td>NaN</td>\n",
       "      <td>...</td>\n",
       "      <td>NaN</td>\n",
       "      <td>NaN</td>\n",
       "      <td>NaN</td>\n",
       "      <td>NaN</td>\n",
       "      <td>a</td>\n",
       "      <td>NaN</td>\n",
       "      <td>NaN</td>\n",
       "      <td>NaN</td>\n",
       "      <td>NaN</td>\n",
       "      <td>NaN</td>\n",
       "    </tr>\n",
       "    <tr>\n",
       "      <th>4</th>\n",
       "      <td>18262</td>\n",
       "      <td>c</td>\n",
       "      <td>NaN</td>\n",
       "      <td>NaN</td>\n",
       "      <td>0.038120</td>\n",
       "      <td>NaN</td>\n",
       "      <td>NaN</td>\n",
       "      <td>0.315789</td>\n",
       "      <td>NaN</td>\n",
       "      <td>NaN</td>\n",
       "      <td>...</td>\n",
       "      <td>NaN</td>\n",
       "      <td>NaN</td>\n",
       "      <td>b</td>\n",
       "      <td>NaN</td>\n",
       "      <td>a</td>\n",
       "      <td>NaN</td>\n",
       "      <td>a</td>\n",
       "      <td>NaN</td>\n",
       "      <td>NaN</td>\n",
       "      <td>NaN</td>\n",
       "    </tr>\n",
       "  </tbody>\n",
       "</table>\n",
       "<p>5 rows × 1379 columns</p>\n",
       "</div>"
      ],
      "text/plain": [
       "      id release  n_0000  n_0001    n_0002  n_0003  n_0004    n_0005  n_0006  \\\n",
       "0  11193       a     NaN     NaN  0.025449     NaN     NaN  0.368421     NaN   \n",
       "1  11382       a     NaN     NaN  0.031297     NaN     NaN  0.315789     NaN   \n",
       "2  16531       a     NaN     NaN  0.024475     NaN     NaN  0.342105     NaN   \n",
       "3   1896       a     NaN     NaN  0.041694     NaN     NaN  0.447368     NaN   \n",
       "4  18262       c     NaN     NaN  0.038120     NaN     NaN  0.315789     NaN   \n",
       "\n",
       "   n_0007   ...    c_1368  c_1369  c_1370  c_1371  c_1372  c_1373  c_1374  \\\n",
       "0     NaN   ...       NaN     NaN     NaN     NaN       a     NaN       q   \n",
       "1     NaN   ...       NaN     NaN       a     NaN       a     NaN     NaN   \n",
       "2     NaN   ...       NaN     NaN       a     NaN       a     NaN       b   \n",
       "3     NaN   ...       NaN     NaN     NaN     NaN       a     NaN     NaN   \n",
       "4     NaN   ...       NaN     NaN       b     NaN       a     NaN       a   \n",
       "\n",
       "   c_1375  c_1376  c_1377  \n",
       "0     NaN     NaN     NaN  \n",
       "1     NaN     NaN     NaN  \n",
       "2     NaN     NaN     NaN  \n",
       "3     NaN     NaN     NaN  \n",
       "4     NaN     NaN     NaN  \n",
       "\n",
       "[5 rows x 1379 columns]"
      ]
     },
     "metadata": {},
     "output_type": "display_data"
    },
    {
     "data": {
      "text/html": [
       "<div>\n",
       "<style scoped>\n",
       "    .dataframe tbody tr th:only-of-type {\n",
       "        vertical-align: middle;\n",
       "    }\n",
       "\n",
       "    .dataframe tbody tr th {\n",
       "        vertical-align: top;\n",
       "    }\n",
       "\n",
       "    .dataframe thead th {\n",
       "        text-align: right;\n",
       "    }\n",
       "</style>\n",
       "<table border=\"1\" class=\"dataframe\">\n",
       "  <thead>\n",
       "    <tr style=\"text-align: right;\">\n",
       "      <th></th>\n",
       "      <th>id</th>\n",
       "      <th>service_a</th>\n",
       "      <th>service_b</th>\n",
       "      <th>service_c</th>\n",
       "      <th>service_d</th>\n",
       "      <th>service_e</th>\n",
       "      <th>service_f</th>\n",
       "      <th>service_g</th>\n",
       "      <th>service_h</th>\n",
       "      <th>service_i</th>\n",
       "      <th>service_j</th>\n",
       "      <th>service_k</th>\n",
       "      <th>service_l</th>\n",
       "      <th>service_m</th>\n",
       "      <th>service_n</th>\n",
       "    </tr>\n",
       "  </thead>\n",
       "  <tbody>\n",
       "    <tr>\n",
       "      <th>0</th>\n",
       "      <td>11193</td>\n",
       "      <td>1</td>\n",
       "      <td>1</td>\n",
       "      <td>0</td>\n",
       "      <td>0</td>\n",
       "      <td>0</td>\n",
       "      <td>0</td>\n",
       "      <td>0</td>\n",
       "      <td>0</td>\n",
       "      <td>0</td>\n",
       "      <td>1</td>\n",
       "      <td>1</td>\n",
       "      <td>0</td>\n",
       "      <td>0</td>\n",
       "      <td>0</td>\n",
       "    </tr>\n",
       "    <tr>\n",
       "      <th>1</th>\n",
       "      <td>11382</td>\n",
       "      <td>0</td>\n",
       "      <td>0</td>\n",
       "      <td>0</td>\n",
       "      <td>0</td>\n",
       "      <td>0</td>\n",
       "      <td>0</td>\n",
       "      <td>0</td>\n",
       "      <td>0</td>\n",
       "      <td>0</td>\n",
       "      <td>1</td>\n",
       "      <td>1</td>\n",
       "      <td>0</td>\n",
       "      <td>0</td>\n",
       "      <td>0</td>\n",
       "    </tr>\n",
       "    <tr>\n",
       "      <th>2</th>\n",
       "      <td>16531</td>\n",
       "      <td>0</td>\n",
       "      <td>0</td>\n",
       "      <td>0</td>\n",
       "      <td>0</td>\n",
       "      <td>0</td>\n",
       "      <td>0</td>\n",
       "      <td>0</td>\n",
       "      <td>0</td>\n",
       "      <td>0</td>\n",
       "      <td>1</td>\n",
       "      <td>1</td>\n",
       "      <td>0</td>\n",
       "      <td>0</td>\n",
       "      <td>0</td>\n",
       "    </tr>\n",
       "    <tr>\n",
       "      <th>3</th>\n",
       "      <td>1896</td>\n",
       "      <td>0</td>\n",
       "      <td>0</td>\n",
       "      <td>0</td>\n",
       "      <td>1</td>\n",
       "      <td>0</td>\n",
       "      <td>0</td>\n",
       "      <td>0</td>\n",
       "      <td>0</td>\n",
       "      <td>0</td>\n",
       "      <td>1</td>\n",
       "      <td>0</td>\n",
       "      <td>1</td>\n",
       "      <td>0</td>\n",
       "      <td>0</td>\n",
       "    </tr>\n",
       "    <tr>\n",
       "      <th>4</th>\n",
       "      <td>18262</td>\n",
       "      <td>0</td>\n",
       "      <td>0</td>\n",
       "      <td>0</td>\n",
       "      <td>1</td>\n",
       "      <td>1</td>\n",
       "      <td>0</td>\n",
       "      <td>0</td>\n",
       "      <td>0</td>\n",
       "      <td>0</td>\n",
       "      <td>0</td>\n",
       "      <td>1</td>\n",
       "      <td>1</td>\n",
       "      <td>1</td>\n",
       "      <td>0</td>\n",
       "    </tr>\n",
       "  </tbody>\n",
       "</table>\n",
       "</div>"
      ],
      "text/plain": [
       "      id  service_a  service_b  service_c  service_d  service_e  service_f  \\\n",
       "0  11193          1          1          0          0          0          0   \n",
       "1  11382          0          0          0          0          0          0   \n",
       "2  16531          0          0          0          0          0          0   \n",
       "3   1896          0          0          0          1          0          0   \n",
       "4  18262          0          0          0          1          1          0   \n",
       "\n",
       "   service_g  service_h  service_i  service_j  service_k  service_l  \\\n",
       "0          0          0          0          1          1          0   \n",
       "1          0          0          0          1          1          0   \n",
       "2          0          0          0          1          1          0   \n",
       "3          0          0          0          1          0          1   \n",
       "4          0          0          0          0          1          1   \n",
       "\n",
       "   service_m  service_n  \n",
       "0          0          0  \n",
       "1          0          0  \n",
       "2          0          0  \n",
       "3          0          0  \n",
       "4          1          0  "
      ]
     },
     "metadata": {},
     "output_type": "display_data"
    },
    {
     "data": {
      "text/html": [
       "<div>\n",
       "<style scoped>\n",
       "    .dataframe tbody tr th:only-of-type {\n",
       "        vertical-align: middle;\n",
       "    }\n",
       "\n",
       "    .dataframe tbody tr th {\n",
       "        vertical-align: top;\n",
       "    }\n",
       "\n",
       "    .dataframe thead th {\n",
       "        text-align: right;\n",
       "    }\n",
       "</style>\n",
       "<table border=\"1\" class=\"dataframe\">\n",
       "  <thead>\n",
       "    <tr style=\"text-align: right;\">\n",
       "      <th></th>\n",
       "      <th>id</th>\n",
       "      <th>release</th>\n",
       "      <th>n_0000</th>\n",
       "      <th>n_0001</th>\n",
       "      <th>n_0002</th>\n",
       "      <th>n_0003</th>\n",
       "      <th>n_0004</th>\n",
       "      <th>n_0005</th>\n",
       "      <th>n_0006</th>\n",
       "      <th>n_0007</th>\n",
       "      <th>...</th>\n",
       "      <th>c_1368</th>\n",
       "      <th>c_1369</th>\n",
       "      <th>c_1370</th>\n",
       "      <th>c_1371</th>\n",
       "      <th>c_1372</th>\n",
       "      <th>c_1373</th>\n",
       "      <th>c_1374</th>\n",
       "      <th>c_1375</th>\n",
       "      <th>c_1376</th>\n",
       "      <th>c_1377</th>\n",
       "    </tr>\n",
       "  </thead>\n",
       "  <tbody>\n",
       "    <tr>\n",
       "      <th>0</th>\n",
       "      <td>7957</td>\n",
       "      <td>a</td>\n",
       "      <td>NaN</td>\n",
       "      <td>NaN</td>\n",
       "      <td>0.029890</td>\n",
       "      <td>NaN</td>\n",
       "      <td>NaN</td>\n",
       "      <td>0.368421</td>\n",
       "      <td>NaN</td>\n",
       "      <td>NaN</td>\n",
       "      <td>...</td>\n",
       "      <td>NaN</td>\n",
       "      <td>NaN</td>\n",
       "      <td>NaN</td>\n",
       "      <td>NaN</td>\n",
       "      <td>a</td>\n",
       "      <td>NaN</td>\n",
       "      <td>q</td>\n",
       "      <td>NaN</td>\n",
       "      <td>NaN</td>\n",
       "      <td>NaN</td>\n",
       "    </tr>\n",
       "    <tr>\n",
       "      <th>1</th>\n",
       "      <td>693</td>\n",
       "      <td>c</td>\n",
       "      <td>NaN</td>\n",
       "      <td>0.452381</td>\n",
       "      <td>0.032164</td>\n",
       "      <td>NaN</td>\n",
       "      <td>NaN</td>\n",
       "      <td>0.421053</td>\n",
       "      <td>0.0</td>\n",
       "      <td>NaN</td>\n",
       "      <td>...</td>\n",
       "      <td>NaN</td>\n",
       "      <td>NaN</td>\n",
       "      <td>NaN</td>\n",
       "      <td>NaN</td>\n",
       "      <td>a</td>\n",
       "      <td>NaN</td>\n",
       "      <td>x</td>\n",
       "      <td>NaN</td>\n",
       "      <td>NaN</td>\n",
       "      <td>NaN</td>\n",
       "    </tr>\n",
       "    <tr>\n",
       "      <th>2</th>\n",
       "      <td>15558</td>\n",
       "      <td>c</td>\n",
       "      <td>NaN</td>\n",
       "      <td>0.547619</td>\n",
       "      <td>0.049166</td>\n",
       "      <td>NaN</td>\n",
       "      <td>NaN</td>\n",
       "      <td>0.500000</td>\n",
       "      <td>0.2</td>\n",
       "      <td>NaN</td>\n",
       "      <td>...</td>\n",
       "      <td>NaN</td>\n",
       "      <td>NaN</td>\n",
       "      <td>NaN</td>\n",
       "      <td>NaN</td>\n",
       "      <td>a</td>\n",
       "      <td>e</td>\n",
       "      <td>b</td>\n",
       "      <td>NaN</td>\n",
       "      <td>NaN</td>\n",
       "      <td>NaN</td>\n",
       "    </tr>\n",
       "    <tr>\n",
       "      <th>3</th>\n",
       "      <td>15614</td>\n",
       "      <td>a</td>\n",
       "      <td>NaN</td>\n",
       "      <td>NaN</td>\n",
       "      <td>0.048733</td>\n",
       "      <td>NaN</td>\n",
       "      <td>NaN</td>\n",
       "      <td>0.394737</td>\n",
       "      <td>NaN</td>\n",
       "      <td>NaN</td>\n",
       "      <td>...</td>\n",
       "      <td>NaN</td>\n",
       "      <td>NaN</td>\n",
       "      <td>NaN</td>\n",
       "      <td>NaN</td>\n",
       "      <td>b</td>\n",
       "      <td>NaN</td>\n",
       "      <td>NaN</td>\n",
       "      <td>NaN</td>\n",
       "      <td>NaN</td>\n",
       "      <td>NaN</td>\n",
       "    </tr>\n",
       "    <tr>\n",
       "      <th>4</th>\n",
       "      <td>8149</td>\n",
       "      <td>b</td>\n",
       "      <td>NaN</td>\n",
       "      <td>NaN</td>\n",
       "      <td>0.049924</td>\n",
       "      <td>NaN</td>\n",
       "      <td>NaN</td>\n",
       "      <td>0.368421</td>\n",
       "      <td>NaN</td>\n",
       "      <td>NaN</td>\n",
       "      <td>...</td>\n",
       "      <td>NaN</td>\n",
       "      <td>NaN</td>\n",
       "      <td>NaN</td>\n",
       "      <td>NaN</td>\n",
       "      <td>a</td>\n",
       "      <td>NaN</td>\n",
       "      <td>NaN</td>\n",
       "      <td>NaN</td>\n",
       "      <td>NaN</td>\n",
       "      <td>b</td>\n",
       "    </tr>\n",
       "  </tbody>\n",
       "</table>\n",
       "<p>5 rows × 1379 columns</p>\n",
       "</div>"
      ],
      "text/plain": [
       "      id release  n_0000    n_0001    n_0002  n_0003  n_0004    n_0005  \\\n",
       "0   7957       a     NaN       NaN  0.029890     NaN     NaN  0.368421   \n",
       "1    693       c     NaN  0.452381  0.032164     NaN     NaN  0.421053   \n",
       "2  15558       c     NaN  0.547619  0.049166     NaN     NaN  0.500000   \n",
       "3  15614       a     NaN       NaN  0.048733     NaN     NaN  0.394737   \n",
       "4   8149       b     NaN       NaN  0.049924     NaN     NaN  0.368421   \n",
       "\n",
       "   n_0006  n_0007   ...    c_1368  c_1369  c_1370  c_1371  c_1372  c_1373  \\\n",
       "0     NaN     NaN   ...       NaN     NaN     NaN     NaN       a     NaN   \n",
       "1     0.0     NaN   ...       NaN     NaN     NaN     NaN       a     NaN   \n",
       "2     0.2     NaN   ...       NaN     NaN     NaN     NaN       a       e   \n",
       "3     NaN     NaN   ...       NaN     NaN     NaN     NaN       b     NaN   \n",
       "4     NaN     NaN   ...       NaN     NaN     NaN     NaN       a     NaN   \n",
       "\n",
       "   c_1374  c_1375  c_1376  c_1377  \n",
       "0       q     NaN     NaN     NaN  \n",
       "1       x     NaN     NaN     NaN  \n",
       "2       b     NaN     NaN     NaN  \n",
       "3     NaN     NaN     NaN     NaN  \n",
       "4     NaN     NaN     NaN       b  \n",
       "\n",
       "[5 rows x 1379 columns]"
      ]
     },
     "metadata": {},
     "output_type": "display_data"
    }
   ],
   "source": [
    "display(data.head())\n",
    "display(labels.head())\n",
    "display(data_predict.head())"
   ]
  },
  {
   "cell_type": "code",
   "execution_count": 5,
   "metadata": {
    "scrolled": false
   },
   "outputs": [
    {
     "data": {
      "text/plain": [
       "Text(0.5,0,'Label')"
      ]
     },
     "execution_count": 5,
     "metadata": {},
     "output_type": "execute_result"
    },
    {
     "data": {
      "image/png": "[encoded data removed]",
      "text/plain": [
       "<matplotlib.figure.Figure at 0x371fc50>"
      ]
     },
     "metadata": {},
     "output_type": "display_data"
    }
   ],
   "source": [
    "# Посмотрим на распределение количества меток по всем лейблам\n",
    "# Видим, что некоторые лейблы встречаются чаще других\n",
    "counts = list()\n",
    "for col in labels.columns[1:]:\n",
    "    counts.append((col,labels[col].sum()))\n",
    "cat_counts = pd.DataFrame(counts, columns=['category', 'count'])\n",
    "\n",
    "cat_counts.plot(x='category', y='count', kind='bar', legend=False, grid=True, figsize=(10, 5))\n",
    "plt.title(\"Occurrences per label\")\n",
    "plt.ylabel('# of Occurrences', fontsize=12)\n",
    "plt.xlabel('Label', fontsize=12)"
   ]
  },
  {
   "cell_type": "code",
   "execution_count": 6,
   "metadata": {
    "scrolled": true
   },
   "outputs": [
    {
     "name": "stdout",
     "output_type": "stream",
     "text": [
      "{dtype('int64'): 9, dtype('float64'): 345, dtype('O'): 1025}\n"
     ]
    }
   ],
   "source": [
    "# Посмотрим соотношение типов в наших признаках, видим что категориальных достаточно много (1025) и после кодирования получим\n",
    "# довольно разреженную матрицу\n",
    "types = data.dtypes.values\n",
    "unique, counts = np.unique(types, return_counts=True)\n",
    "print(dict(zip(unique, counts)))"
   ]
  },
  {
   "cell_type": "code",
   "execution_count": 7,
   "metadata": {
    "scrolled": true
   },
   "outputs": [
    {
     "data": {
      "image/png": "[encoded data removed]",
      "text/plain": [
       "<matplotlib.figure.Figure at 0x117d89e8>"
      ]
     },
     "metadata": {},
     "output_type": "display_data"
    }
   ],
   "source": [
    "# Посмотрим на соотношение категорильных признаков по количеству уникальных значений \n",
    "# Больше всего признаков с 3 значениями, например a,b,c.\n",
    "unique_count = list()\n",
    "o_idx = np.where(types==np.dtype('O'))[0]\n",
    "for col_idx in o_idx:\n",
    "    s = data.iloc[:,col_idx]\n",
    "    unique_count.append(s.unique().shape[0])\n",
    "plt.figure(figsize = (10,5))\n",
    "plt.hist(unique_count,bins=30)\n",
    "plt.title('Unique categorical values distribution')\n",
    "plt.ylabel('Features number', fontsize=12)\n",
    "plt.xlabel('Unique values number', fontsize=12)\n",
    "plt.show()"
   ]
  },
  {
   "cell_type": "markdown",
   "metadata": {},
   "source": [
    "# Предобработка данных"
   ]
  },
  {
   "cell_type": "code",
   "execution_count": 8,
   "metadata": {
    "scrolled": true
   },
   "outputs": [],
   "source": [
    "# Функция для One-hot-encoding преобразования категориальных признаков\n",
    "def encode_data(data):\n",
    "    encoded_data = data['id'] #будем присоедниять к нему новые столбцы в циклке\n",
    "    data = data.drop('id',axis=1)\n",
    "    dtypes = data.dtypes\n",
    "    \n",
    "    sum0 = 0 #для подсчета количества сгенерированных бинарных признаков\n",
    "    for i, col in enumerate(data.columns):\n",
    "        if(dtypes[i]==np.dtype('O')):\n",
    "            dummy = pd.get_dummies(data[col])\n",
    "            # например признак feature разбивается на 3 бинарных feature_a, feature_b, feature_c\n",
    "            dummy.columns = ['_'.join([col,s]) for s in dummy.columns.values]\n",
    "            encoded_data = pd.concat([encoded_data,dummy],axis=1)\n",
    "            sum0 += dummy.shape[1]\n",
    "        else:\n",
    "            #если признак не категория - просто присоединяем его.\n",
    "            encoded_data = pd.concat([encoded_data,data[col]],axis=1)\n",
    "    \n",
    "    print('encoded columns ', sum0)\n",
    "    print(encoded_data.shape)\n",
    "    return encoded_data"
   ]
  },
  {
   "cell_type": "code",
   "execution_count": 9,
   "metadata": {},
   "outputs": [
    {
     "name": "stdout",
     "output_type": "stream",
     "text": [
      "encoded columns  5510\n",
      "(8000, 5864)\n",
      "(8000, 5834)\n"
     ]
    }
   ],
   "source": [
    "encoded_data = encode_data(data)\n",
    "# удаляем признаки у которых все значения нули\n",
    "encoded_data = encoded_data.dropna(axis=1, how='all')\n",
    "print(encoded_data.shape) # удалилось 30 пустых признаков"
   ]
  },
  {
   "cell_type": "code",
   "execution_count": 10,
   "metadata": {
    "scrolled": true
   },
   "outputs": [
    {
     "name": "stdout",
     "output_type": "stream",
     "text": [
      "encoded columns  4119\n",
      "(2000, 4585)\n",
      "(2000, 4406)\n"
     ]
    }
   ],
   "source": [
    "# То же самое для данных, на которых нужно дать предсказания\n",
    "encoded_data_predict = encode_data(data_predict)\n",
    "encoded_data_predict = encoded_data_predict.dropna(axis=1, how='all')\n",
    "print(encoded_data_predict.shape) # удалилось 179 пустых признаков"
   ]
  },
  {
   "cell_type": "code",
   "execution_count": 11,
   "metadata": {},
   "outputs": [
    {
     "name": "stdout",
     "output_type": "stream",
     "text": [
      "useless_columns  1592\n",
      "new_columns  164\n"
     ]
    }
   ],
   "source": [
    "# В тестовой выборке могут быть признаки, которых нету в новой и наоборот. Проверим это\n",
    "columns = encoded_data.columns.values\n",
    "columns_predict = encoded_data_predict.columns.values\n",
    "# Признаки которые есть в тренировочной но нет в новой\n",
    "useless_columns = [c for c in columns if c not in columns_predict]\n",
    "print('useless_columns ', len(useless_columns))\n",
    "# Признаки которые есть в новой но нет в тренировочной\n",
    "new_columns = [c for c in columns_predict if c not in columns]\n",
    "print('new_columns ', len(new_columns))"
   ]
  },
  {
   "cell_type": "markdown",
   "metadata": {},
   "source": [
    "Я решил удалить из тренировочной выборки признаки useless_columns чтобы зря не обучаться под них, т.к. в новой выборке их не будет. Понятно, что реальном мире не имеет смысла это делать (возможно заменять значения недостающих признаков на 0).\n",
    "Аналогично поступаем с новой выборкой и new_columns, т.к. в тренировочной выборке нет данных чтобы учиться под эти признаки"
   ]
  },
  {
   "cell_type": "code",
   "execution_count": 12,
   "metadata": {
    "scrolled": true
   },
   "outputs": [
    {
     "name": "stdout",
     "output_type": "stream",
     "text": [
      "(8000, 4242) (2000, 4242)\n"
     ]
    }
   ],
   "source": [
    "encoded_data = encoded_data.drop(useless_columns,axis=1)\n",
    "encoded_data_predict = encoded_data_predict.drop(new_columns,axis=1)\n",
    "print(encoded_data.shape, encoded_data_predict.shape)\n",
    "# Получили выборки с одинаковыми признаками."
   ]
  },
  {
   "cell_type": "code",
   "execution_count": 13,
   "metadata": {},
   "outputs": [],
   "source": [
    "# удаляем столбец с айдишниками\n",
    "encoded_data = encoded_data.drop('id',axis=1)\n",
    "labels = labels.drop('id',axis=1)"
   ]
  },
  {
   "cell_type": "markdown",
   "metadata": {},
   "source": [
    "# Выбор наилучшей модели"
   ]
  },
  {
   "cell_type": "code",
   "execution_count": 14,
   "metadata": {},
   "outputs": [],
   "source": [
    "# в эту таблицу будем писать logloss для каждой из категорий\n",
    "losses = pd.DataFrame(index=labels.columns)"
   ]
  },
  {
   "cell_type": "code",
   "execution_count": 15,
   "metadata": {},
   "outputs": [],
   "source": [
    "def get_score(label,clf, X):\n",
    "    y = labels[label]\n",
    "    X_train, X_test, y_train, y_test = train_test_split(X, y, test_size=0.3, random_state=33)\n",
    "\n",
    "    clf.fit(X_train,y_train)\n",
    "    print('.',end='') #'индикатор загрузки'\n",
    "    return log_loss(y_test, clf.predict_proba(X_test))\n",
    "    \n",
    "def get_all_scores(clf_name,clf,X):\n",
    "    losses[clf_name] = np.nan #добавляем пустую колонку\n",
    "    for label in labels.columns:\n",
    "        losses[clf_name].loc[label]= get_score(label, clf, X)  #наполняем колонку потерями для каждой категории\n",
    "# losses-итоговая таблица с потерями, смотрите ее ниже"
   ]
  },
  {
   "cell_type": "markdown",
   "metadata": {},
   "source": [
    "Пробуем разные варианты классификатора"
   ]
  },
  {
   "cell_type": "code",
   "execution_count": 16,
   "metadata": {
    "scrolled": true
   },
   "outputs": [
    {
     "name": "stdout",
     "output_type": "stream",
     "text": [
      "..............Wall time: 1min 55s\n"
     ]
    }
   ],
   "source": [
    "%%time\n",
    "# заполняем пропуски нулями, при заполнении средними качество получилось хуже\n",
    "X = encoded_data.fillna(0)\n",
    "get_all_scores('lr l2', LogisticRegression(penalty ='l2'), X)"
   ]
  },
  {
   "cell_type": "code",
   "execution_count": 17,
   "metadata": {},
   "outputs": [
    {
     "name": "stdout",
     "output_type": "stream",
     "text": [
      "..............Wall time: 34.3 s\n"
     ]
    }
   ],
   "source": [
    "%%time\n",
    "X = encoded_data.fillna(0)\n",
    "get_all_scores('lr l1', LogisticRegression(penalty ='l1'), X)"
   ]
  },
  {
   "cell_type": "code",
   "execution_count": 18,
   "metadata": {},
   "outputs": [
    {
     "name": "stdout",
     "output_type": "stream",
     "text": [
      "..............Wall time: 28.6 s\n"
     ]
    }
   ],
   "source": [
    "%%time\n",
    "X = encoded_data.dropna(axis=1)\n",
    "get_all_scores('lr l2 dropna', LogisticRegression(penalty ='l2'), X)"
   ]
  },
  {
   "cell_type": "code",
   "execution_count": 19,
   "metadata": {},
   "outputs": [
    {
     "name": "stdout",
     "output_type": "stream",
     "text": [
      "..............Wall time: 27.3 s\n"
     ]
    }
   ],
   "source": [
    "%%time\n",
    "X = encoded_data.dropna(axis=1)\n",
    "get_all_scores('lr l1 dropna', LogisticRegression(penalty ='l1'), X)"
   ]
  },
  {
   "cell_type": "markdown",
   "metadata": {},
   "source": [
    "# Поиск оптимальных гиперпараметров"
   ]
  },
  {
   "cell_type": "code",
   "execution_count": 20,
   "metadata": {
    "scrolled": false
   },
   "outputs": [],
   "source": [
    "# улучшим LogisticRegression(penalty ='l1'), она показывает хорошие результаты на выборке с удаленными пропусками. (см таблицу)\n",
    "def find_opt(col, clf, coef, _range):\n",
    "    loss_list = list()\n",
    "    for k in _range:\n",
    "        clf.set_params(**{coef:k})\n",
    "        loss =get_score(col, clf, X)\n",
    "        loss_list.append([k,loss])\n",
    "    loss_list = np.array(loss_list)\n",
    "    loss_list[loss_list[:,1].argmin()]\n",
    "    par_min = loss_list[loss_list[:,1].argmin()]\n",
    "    print('min coord ', par_min)\n",
    "    plt.plot(loss_list[:,0],loss_list[:,1])\n",
    "    plt.scatter(par_min[0],par_min[1],c='r')\n",
    "    plt.title('logloss vs hyperparameter')\n",
    "    plt.ylabel('logloss', fontsize=12)\n",
    "    plt.xlabel(coef, fontsize=12)\n",
    "    plt.show()\n",
    "    return par_min"
   ]
  },
  {
   "cell_type": "code",
   "execution_count": 21,
   "metadata": {
    "scrolled": false
   },
   "outputs": [
    {
     "name": "stdout",
     "output_type": "stream",
     "text": [
      "service_a..................................................min coord  [0.15816327 0.35487073]\n"
     ]
    },
    {
     "data": {
      "image/png": "[encoded data removed]",
      "text/plain": [
       "<matplotlib.figure.Figure at 0x118fc4e0>"
      ]
     },
     "metadata": {},
     "output_type": "display_data"
    },
    {
     "name": "stdout",
     "output_type": "stream",
     "text": [
      "service_b..................................................min coord  [0.08561224 0.49124592]\n"
     ]
    },
    {
     "data": {
      "image/png": "[encoded data removed]",
      "text/plain": [
       "<matplotlib.figure.Figure at 0x1178a668>"
      ]
     },
     "metadata": {},
     "output_type": "display_data"
    },
    {
     "name": "stdout",
     "output_type": "stream",
     "text": [
      "service_c..................................................min coord  [0.15010204 0.49113198]\n"
     ]
    },
    {
     "data": {
      "image/png": "[encoded data removed]",
      "text/plain": [
       "<matplotlib.figure.Figure at 0x1178ac88>"
      ]
     },
     "metadata": {},
     "output_type": "display_data"
    },
    {
     "name": "stdout",
     "output_type": "stream",
     "text": [
      "service_d..................................................min coord  [0.25489796 0.03226327]\n"
     ]
    },
    {
     "data": {
      "image/png": "[encoded data removed]",
      "text/plain": [
       "<matplotlib.figure.Figure at 0x1cb254e0>"
      ]
     },
     "metadata": {},
     "output_type": "display_data"
    },
    {
     "name": "stdout",
     "output_type": "stream",
     "text": [
      "service_e..................................................min coord  [0.15010204 0.16809282]\n"
     ]
    },
    {
     "data": {
      "image/png": "[encoded data removed]",
      "text/plain": [
       "<matplotlib.figure.Figure at 0x12dcb940>"
      ]
     },
     "metadata": {},
     "output_type": "display_data"
    },
    {
     "name": "stdout",
     "output_type": "stream",
     "text": [
      "service_f..................................................min coord  [0.13397959 0.07002513]\n"
     ]
    },
    {
     "data": {
      "image/png": "[encoded data removed]",
      "text/plain": [
       "<matplotlib.figure.Figure at 0x11931fd0>"
      ]
     },
     "metadata": {},
     "output_type": "display_data"
    },
    {
     "name": "stdout",
     "output_type": "stream",
     "text": [
      "service_g..................................................min coord  [0.11785714 0.1688282 ]\n"
     ]
    },
    {
     "data": {
      "image/png": "[encoded data removed]",
      "text/plain": [
       "<matplotlib.figure.Figure at 0x119d56d8>"
      ]
     },
     "metadata": {},
     "output_type": "display_data"
    },
    {
     "name": "stdout",
     "output_type": "stream",
     "text": [
      "service_h..................................................min coord  [0.12591837 0.43974175]\n"
     ]
    },
    {
     "data": {
      "image/png": "[encoded data removed]",
      "text/plain": [
       "<matplotlib.figure.Figure at 0x119d5cf8>"
      ]
     },
     "metadata": {},
     "output_type": "display_data"
    },
    {
     "name": "stdout",
     "output_type": "stream",
     "text": [
      "service_i..................................................min coord  [0.31938776 0.04683675]\n"
     ]
    },
    {
     "data": {
      "image/png": "[encoded data removed]",
      "text/plain": [
       "<matplotlib.figure.Figure at 0x11a9f9b0>"
      ]
     },
     "metadata": {},
     "output_type": "display_data"
    },
    {
     "name": "stdout",
     "output_type": "stream",
     "text": [
      "service_j..................................................min coord  [0.06142857 0.36307184]\n"
     ]
    },
    {
     "data": {
      "image/png": "[encoded data removed]",
      "text/plain": [
       "<matplotlib.figure.Figure at 0x11ad0eb8>"
      ]
     },
     "metadata": {},
     "output_type": "display_data"
    },
    {
     "name": "stdout",
     "output_type": "stream",
     "text": [
      "service_k..................................................min coord  [0.0694898 0.4591354]\n"
     ]
    },
    {
     "data": {
      "image/png": "[encoded data removed]",
      "text/plain": [
       "<matplotlib.figure.Figure at 0x1193bc50>"
      ]
     },
     "metadata": {},
     "output_type": "display_data"
    },
    {
     "name": "stdout",
     "output_type": "stream",
     "text": [
      "service_l..................................................min coord  [0.21459184 0.09207542]\n"
     ]
    },
    {
     "data": {
      "image/png": "[encoded data removed]",
      "text/plain": [
       "<matplotlib.figure.Figure at 0x11bc8cc0>"
      ]
     },
     "metadata": {},
     "output_type": "display_data"
    },
    {
     "name": "stdout",
     "output_type": "stream",
     "text": [
      "service_m..................................................min coord  [0.25489796 0.09044375]\n"
     ]
    },
    {
     "data": {
      "image/png": "[encoded data removed]",
      "text/plain": [
       "<matplotlib.figure.Figure at 0x11bc8828>"
      ]
     },
     "metadata": {},
     "output_type": "display_data"
    },
    {
     "name": "stdout",
     "output_type": "stream",
     "text": [
      "service_n..................................................min coord  [0.09367347 0.35124896]\n"
     ]
    },
    {
     "data": {
      "image/png": "[encoded data removed]",
      "text/plain": [
       "<matplotlib.figure.Figure at 0x11c99400>"
      ]
     },
     "metadata": {},
     "output_type": "display_data"
    },
    {
     "name": "stdout",
     "output_type": "stream",
     "text": [
      "Wall time: 11min 50s\n"
     ]
    }
   ],
   "source": [
    "%%time\n",
    "X = encoded_data.dropna(axis=1)\n",
    "best_C = list()\n",
    "for l in labels:\n",
    "    print(l,end='')\n",
    "    C = find_opt(l,LogisticRegression(penalty ='l1'),\n",
    "            'C', np.linspace(0.005,0.4,num=50))\n",
    "    best_C.append(C)"
   ]
  },
  {
   "cell_type": "code",
   "execution_count": 22,
   "metadata": {
    "scrolled": true
   },
   "outputs": [],
   "source": [
    "# получили для каждой категории индивидуальный гиперпараметр меры регуляризации. Чем меньше С тем сильнее регуляризация.\n",
    "best_C = np.array(best_C)"
   ]
  },
  {
   "cell_type": "code",
   "execution_count": 23,
   "metadata": {},
   "outputs": [
    {
     "name": "stdout",
     "output_type": "stream",
     "text": [
      ".............."
     ]
    }
   ],
   "source": [
    "def get_score(label,clf, X):\n",
    "    y = labels[label]\n",
    "    X_train, X_test, y_train, y_test = train_test_split(X, y, test_size=0.3, random_state=33)\n",
    "\n",
    "    clf.fit(X_train,y_train)\n",
    "    print('.',end='')\n",
    "    return log_loss(y_test, clf.predict_proba(X_test))\n",
    "    \n",
    "# Немного изменим функцию для банча классификаторров\n",
    "def get_all_scores_div(clf_name,clf,X):\n",
    "    losses[clf_name] = np.nan\n",
    "    for i,label in enumerate(labels.columns):\n",
    "        losses[clf_name].loc[label]= get_score(label, clf.set_params(**{'C':best_C[i,0]}), X)\n",
    "        \n",
    "get_all_scores_div('lr division',LogisticRegression(penalty ='l1'),X)\n",
    "# Такиим образом в таблицу (см ниже, столбик lr division) записываем лог.потери,\n",
    "# используем индивидуальный параметр из best_C для каждой категории"
   ]
  },
  {
   "cell_type": "code",
   "execution_count": 24,
   "metadata": {},
   "outputs": [
    {
     "name": "stderr",
     "output_type": "stream",
     "text": [
      "C:\\Anaconda3\\lib\\site-packages\\sklearn\\linear_model\\sag.py:326: ConvergenceWarning: The max_iter was reached which means the coef_ did not converge\n",
      "  \"the coef_ did not converge\", ConvergenceWarning)\n"
     ]
    },
    {
     "name": "stdout",
     "output_type": "stream",
     "text": [
      "..............Wall time: 20min 7s\n"
     ]
    }
   ],
   "source": [
    "%%time\n",
    "# игрался с разными параметрами\n",
    "X = encoded_data.dropna(axis=1)\n",
    "get_all_scores('lr l1 saga', LogisticRegression(penalty ='l1', solver='saga'),X)"
   ]
  },
  {
   "cell_type": "code",
   "execution_count": 25,
   "metadata": {
    "scrolled": false
   },
   "outputs": [
    {
     "name": "stderr",
     "output_type": "stream",
     "text": [
      "C:\\Anaconda3\\lib\\site-packages\\sklearn\\linear_model\\sag.py:326: ConvergenceWarning: The max_iter was reached which means the coef_ did not converge\n",
      "  \"the coef_ did not converge\", ConvergenceWarning)\n"
     ]
    },
    {
     "name": "stdout",
     "output_type": "stream",
     "text": [
      "..............Wall time: 14min 43s\n"
     ]
    }
   ],
   "source": [
    "%%time\n",
    "X = encoded_data.dropna(axis=1)\n",
    "get_all_scores('lr l1 saga c=0.1', LogisticRegression(penalty ='l1', solver='saga',C=0.1),X)"
   ]
  },
  {
   "cell_type": "markdown",
   "metadata": {},
   "source": [
    "## Итоговая таблица потерь"
   ]
  },
  {
   "cell_type": "code",
   "execution_count": 26,
   "metadata": {
    "scrolled": false
   },
   "outputs": [
    {
     "data": {
      "text/html": [
       "<div>\n",
       "<style scoped>\n",
       "    .dataframe tbody tr th:only-of-type {\n",
       "        vertical-align: middle;\n",
       "    }\n",
       "\n",
       "    .dataframe tbody tr th {\n",
       "        vertical-align: top;\n",
       "    }\n",
       "\n",
       "    .dataframe thead th {\n",
       "        text-align: right;\n",
       "    }\n",
       "</style>\n",
       "<table border=\"1\" class=\"dataframe\">\n",
       "  <thead>\n",
       "    <tr style=\"text-align: right;\">\n",
       "      <th></th>\n",
       "      <th>lr l2</th>\n",
       "      <th>lr l1</th>\n",
       "      <th>lr l2 dropna</th>\n",
       "      <th>lr l1 dropna</th>\n",
       "      <th>lr division</th>\n",
       "      <th>lr l1 saga</th>\n",
       "      <th>lr l1 saga c=0.1</th>\n",
       "      <th>best clf</th>\n",
       "      <th>best loss</th>\n",
       "    </tr>\n",
       "  </thead>\n",
       "  <tbody>\n",
       "    <tr>\n",
       "      <th>service_a</th>\n",
       "      <td>0.572793</td>\n",
       "      <td>0.475997</td>\n",
       "      <td>0.515851</td>\n",
       "      <td>0.442159</td>\n",
       "      <td>0.354927</td>\n",
       "      <td>0.395673</td>\n",
       "      <td>0.406100</td>\n",
       "      <td>lr division</td>\n",
       "      <td>0.354927</td>\n",
       "    </tr>\n",
       "    <tr>\n",
       "      <th>service_b</th>\n",
       "      <td>0.714035</td>\n",
       "      <td>0.635842</td>\n",
       "      <td>0.677184</td>\n",
       "      <td>0.609901</td>\n",
       "      <td>0.491226</td>\n",
       "      <td>0.500063</td>\n",
       "      <td>0.506083</td>\n",
       "      <td>lr division</td>\n",
       "      <td>0.491226</td>\n",
       "    </tr>\n",
       "    <tr>\n",
       "      <th>service_c</th>\n",
       "      <td>0.672286</td>\n",
       "      <td>0.608682</td>\n",
       "      <td>0.643692</td>\n",
       "      <td>0.585418</td>\n",
       "      <td>0.491264</td>\n",
       "      <td>0.490637</td>\n",
       "      <td>0.496432</td>\n",
       "      <td>lr l1 saga</td>\n",
       "      <td>0.490637</td>\n",
       "    </tr>\n",
       "    <tr>\n",
       "      <th>service_d</th>\n",
       "      <td>0.053221</td>\n",
       "      <td>0.043117</td>\n",
       "      <td>0.045438</td>\n",
       "      <td>0.037748</td>\n",
       "      <td>0.032312</td>\n",
       "      <td>0.048609</td>\n",
       "      <td>0.055134</td>\n",
       "      <td>lr division</td>\n",
       "      <td>0.032312</td>\n",
       "    </tr>\n",
       "    <tr>\n",
       "      <th>service_e</th>\n",
       "      <td>0.307857</td>\n",
       "      <td>0.245056</td>\n",
       "      <td>0.258544</td>\n",
       "      <td>0.217114</td>\n",
       "      <td>0.168113</td>\n",
       "      <td>0.173138</td>\n",
       "      <td>0.178364</td>\n",
       "      <td>lr division</td>\n",
       "      <td>0.168113</td>\n",
       "    </tr>\n",
       "    <tr>\n",
       "      <th>service_f</th>\n",
       "      <td>0.156956</td>\n",
       "      <td>0.133065</td>\n",
       "      <td>0.123403</td>\n",
       "      <td>0.107657</td>\n",
       "      <td>0.070000</td>\n",
       "      <td>0.102281</td>\n",
       "      <td>0.106618</td>\n",
       "      <td>lr division</td>\n",
       "      <td>0.070000</td>\n",
       "    </tr>\n",
       "    <tr>\n",
       "      <th>service_g</th>\n",
       "      <td>0.306713</td>\n",
       "      <td>0.250509</td>\n",
       "      <td>0.265472</td>\n",
       "      <td>0.230107</td>\n",
       "      <td>0.168808</td>\n",
       "      <td>0.172512</td>\n",
       "      <td>0.177533</td>\n",
       "      <td>lr division</td>\n",
       "      <td>0.168808</td>\n",
       "    </tr>\n",
       "    <tr>\n",
       "      <th>service_h</th>\n",
       "      <td>0.652107</td>\n",
       "      <td>0.577333</td>\n",
       "      <td>0.604006</td>\n",
       "      <td>0.542118</td>\n",
       "      <td>0.439737</td>\n",
       "      <td>0.467382</td>\n",
       "      <td>0.477108</td>\n",
       "      <td>lr division</td>\n",
       "      <td>0.439737</td>\n",
       "    </tr>\n",
       "    <tr>\n",
       "      <th>service_i</th>\n",
       "      <td>0.086190</td>\n",
       "      <td>0.067713</td>\n",
       "      <td>0.066342</td>\n",
       "      <td>0.057786</td>\n",
       "      <td>0.046728</td>\n",
       "      <td>0.068166</td>\n",
       "      <td>0.071197</td>\n",
       "      <td>lr division</td>\n",
       "      <td>0.046728</td>\n",
       "    </tr>\n",
       "    <tr>\n",
       "      <th>service_j</th>\n",
       "      <td>0.544180</td>\n",
       "      <td>0.481871</td>\n",
       "      <td>0.507284</td>\n",
       "      <td>0.449367</td>\n",
       "      <td>0.363034</td>\n",
       "      <td>0.360327</td>\n",
       "      <td>0.362054</td>\n",
       "      <td>lr l1 saga</td>\n",
       "      <td>0.360327</td>\n",
       "    </tr>\n",
       "    <tr>\n",
       "      <th>service_k</th>\n",
       "      <td>0.704934</td>\n",
       "      <td>0.612583</td>\n",
       "      <td>0.665794</td>\n",
       "      <td>0.589372</td>\n",
       "      <td>0.459002</td>\n",
       "      <td>0.460444</td>\n",
       "      <td>0.461286</td>\n",
       "      <td>lr division</td>\n",
       "      <td>0.459002</td>\n",
       "    </tr>\n",
       "    <tr>\n",
       "      <th>service_l</th>\n",
       "      <td>0.147013</td>\n",
       "      <td>0.138543</td>\n",
       "      <td>0.129919</td>\n",
       "      <td>0.128902</td>\n",
       "      <td>0.092116</td>\n",
       "      <td>0.215272</td>\n",
       "      <td>0.224791</td>\n",
       "      <td>lr division</td>\n",
       "      <td>0.092116</td>\n",
       "    </tr>\n",
       "    <tr>\n",
       "      <th>service_m</th>\n",
       "      <td>0.140405</td>\n",
       "      <td>0.120663</td>\n",
       "      <td>0.122185</td>\n",
       "      <td>0.109666</td>\n",
       "      <td>0.090488</td>\n",
       "      <td>0.185817</td>\n",
       "      <td>0.196548</td>\n",
       "      <td>lr division</td>\n",
       "      <td>0.090488</td>\n",
       "    </tr>\n",
       "    <tr>\n",
       "      <th>service_n</th>\n",
       "      <td>0.618667</td>\n",
       "      <td>0.507540</td>\n",
       "      <td>0.549196</td>\n",
       "      <td>0.470093</td>\n",
       "      <td>0.351228</td>\n",
       "      <td>0.361347</td>\n",
       "      <td>0.367260</td>\n",
       "      <td>lr division</td>\n",
       "      <td>0.351228</td>\n",
       "    </tr>\n",
       "  </tbody>\n",
       "</table>\n",
       "</div>"
      ],
      "text/plain": [
       "              lr l2     lr l1  lr l2 dropna  lr l1 dropna  lr division  \\\n",
       "service_a  0.572793  0.475997      0.515851      0.442159     0.354927   \n",
       "service_b  0.714035  0.635842      0.677184      0.609901     0.491226   \n",
       "service_c  0.672286  0.608682      0.643692      0.585418     0.491264   \n",
       "service_d  0.053221  0.043117      0.045438      0.037748     0.032312   \n",
       "service_e  0.307857  0.245056      0.258544      0.217114     0.168113   \n",
       "service_f  0.156956  0.133065      0.123403      0.107657     0.070000   \n",
       "service_g  0.306713  0.250509      0.265472      0.230107     0.168808   \n",
       "service_h  0.652107  0.577333      0.604006      0.542118     0.439737   \n",
       "service_i  0.086190  0.067713      0.066342      0.057786     0.046728   \n",
       "service_j  0.544180  0.481871      0.507284      0.449367     0.363034   \n",
       "service_k  0.704934  0.612583      0.665794      0.589372     0.459002   \n",
       "service_l  0.147013  0.138543      0.129919      0.128902     0.092116   \n",
       "service_m  0.140405  0.120663      0.122185      0.109666     0.090488   \n",
       "service_n  0.618667  0.507540      0.549196      0.470093     0.351228   \n",
       "\n",
       "           lr l1 saga  lr l1 saga c=0.1     best clf  best loss  \n",
       "service_a    0.395673          0.406100  lr division   0.354927  \n",
       "service_b    0.500063          0.506083  lr division   0.491226  \n",
       "service_c    0.490637          0.496432   lr l1 saga   0.490637  \n",
       "service_d    0.048609          0.055134  lr division   0.032312  \n",
       "service_e    0.173138          0.178364  lr division   0.168113  \n",
       "service_f    0.102281          0.106618  lr division   0.070000  \n",
       "service_g    0.172512          0.177533  lr division   0.168808  \n",
       "service_h    0.467382          0.477108  lr division   0.439737  \n",
       "service_i    0.068166          0.071197  lr division   0.046728  \n",
       "service_j    0.360327          0.362054   lr l1 saga   0.360327  \n",
       "service_k    0.460444          0.461286  lr division   0.459002  \n",
       "service_l    0.215272          0.224791  lr division   0.092116  \n",
       "service_m    0.185817          0.196548  lr division   0.090488  \n",
       "service_n    0.361347          0.367260  lr division   0.351228  "
      ]
     },
     "execution_count": 26,
     "metadata": {},
     "output_type": "execute_result"
    }
   ],
   "source": [
    "#  Сводка всех logloss по разным классификаторам\n",
    "# В последних двух колонках лучший классификатор и соответсвующая ему ошибка\n",
    "p = pd.concat([losses,losses.idxmin(axis=1),losses.min(axis=1)],axis=1)\n",
    "val = p.columns.values\n",
    "val[-2:]= ['best clf','best loss']\n",
    "p.columns = val\n",
    "p"
   ]
  },
  {
   "cell_type": "markdown",
   "metadata": {},
   "source": [
    "# Построение предсказаний"
   ]
  },
  {
   "cell_type": "markdown",
   "metadata": {},
   "source": [
    "### Видно, что solver='saga' по некоторым категориям выбивается в лучшие. Были проверены и другие классификаторы: SVC, GaussianNB, SVC(kernel=\"linear\") показывают более менее хорошие результаты. Но вычисления на ноутбуке занимают много времени, поэтому возьмем все классификаторы LogisticRegression с подобранными под каждую категорию коэфф. регуляризации."
   ]
  },
  {
   "cell_type": "code",
   "execution_count": 27,
   "metadata": {
    "scrolled": true
   },
   "outputs": [
    {
     "name": "stdout",
     "output_type": "stream",
     "text": [
      "useless_columns  0\n",
      "new_columns  272\n"
     ]
    }
   ],
   "source": [
    "# Мы в тренировочной выборке удаляли столбцы с нулями, так что удалим лишние признаки из новой выборки\n",
    "columns = X.columns.values\n",
    "columns_predict = encoded_data_predict.columns.values\n",
    "# Признаки которые есть в тренировочной но нет в новой\n",
    "useless_columns = [c for c in columns if c not in columns_predict]\n",
    "print('useless_columns ', len(useless_columns))\n",
    "# Признаки которые есть в новой но нет в тренировочной\n",
    "new_columns = [c for c in columns_predict if c not in columns]\n",
    "print('new_columns ', len(new_columns))"
   ]
  },
  {
   "cell_type": "code",
   "execution_count": 28,
   "metadata": {
    "scrolled": false
   },
   "outputs": [],
   "source": [
    "encoded_data_predict = encoded_data_predict.drop(new_columns,axis=1)"
   ]
  },
  {
   "cell_type": "code",
   "execution_count": 29,
   "metadata": {
    "scrolled": true
   },
   "outputs": [
    {
     "data": {
      "text/html": [
       "<div>\n",
       "<style scoped>\n",
       "    .dataframe tbody tr th:only-of-type {\n",
       "        vertical-align: middle;\n",
       "    }\n",
       "\n",
       "    .dataframe tbody tr th {\n",
       "        vertical-align: top;\n",
       "    }\n",
       "\n",
       "    .dataframe thead th {\n",
       "        text-align: right;\n",
       "    }\n",
       "</style>\n",
       "<table border=\"1\" class=\"dataframe\">\n",
       "  <thead>\n",
       "    <tr style=\"text-align: right;\">\n",
       "      <th></th>\n",
       "      <th>id</th>\n",
       "      <th>service_a</th>\n",
       "      <th>service_b</th>\n",
       "      <th>service_c</th>\n",
       "      <th>service_d</th>\n",
       "      <th>service_e</th>\n",
       "      <th>service_f</th>\n",
       "      <th>service_g</th>\n",
       "      <th>service_h</th>\n",
       "      <th>service_i</th>\n",
       "      <th>service_j</th>\n",
       "      <th>service_k</th>\n",
       "      <th>service_l</th>\n",
       "      <th>service_m</th>\n",
       "      <th>service_n</th>\n",
       "    </tr>\n",
       "  </thead>\n",
       "  <tbody>\n",
       "    <tr>\n",
       "      <th>0</th>\n",
       "      <td>7957</td>\n",
       "      <td>0.996111</td>\n",
       "      <td>0.584657</td>\n",
       "      <td>0.238870</td>\n",
       "      <td>0.001388</td>\n",
       "      <td>0.019783</td>\n",
       "      <td>0.000574</td>\n",
       "      <td>0.009386</td>\n",
       "      <td>0.058066</td>\n",
       "      <td>0.002894</td>\n",
       "      <td>0.882662</td>\n",
       "      <td>0.851720</td>\n",
       "      <td>0.000678</td>\n",
       "      <td>0.000932</td>\n",
       "      <td>0.088832</td>\n",
       "    </tr>\n",
       "    <tr>\n",
       "      <th>1</th>\n",
       "      <td>693</td>\n",
       "      <td>0.019739</td>\n",
       "      <td>0.050529</td>\n",
       "      <td>0.012728</td>\n",
       "      <td>0.015187</td>\n",
       "      <td>0.008748</td>\n",
       "      <td>0.000433</td>\n",
       "      <td>0.001483</td>\n",
       "      <td>0.070807</td>\n",
       "      <td>0.000115</td>\n",
       "      <td>0.921910</td>\n",
       "      <td>0.863017</td>\n",
       "      <td>0.002940</td>\n",
       "      <td>0.002128</td>\n",
       "      <td>0.058844</td>\n",
       "    </tr>\n",
       "    <tr>\n",
       "      <th>2</th>\n",
       "      <td>15558</td>\n",
       "      <td>0.487722</td>\n",
       "      <td>0.675694</td>\n",
       "      <td>0.389685</td>\n",
       "      <td>0.000448</td>\n",
       "      <td>0.036536</td>\n",
       "      <td>0.001525</td>\n",
       "      <td>0.140556</td>\n",
       "      <td>0.147492</td>\n",
       "      <td>0.007126</td>\n",
       "      <td>0.734113</td>\n",
       "      <td>0.720647</td>\n",
       "      <td>0.002229</td>\n",
       "      <td>0.000555</td>\n",
       "      <td>0.209823</td>\n",
       "    </tr>\n",
       "    <tr>\n",
       "      <th>3</th>\n",
       "      <td>15614</td>\n",
       "      <td>0.215258</td>\n",
       "      <td>0.138189</td>\n",
       "      <td>0.153444</td>\n",
       "      <td>0.000974</td>\n",
       "      <td>0.015145</td>\n",
       "      <td>0.000716</td>\n",
       "      <td>0.063738</td>\n",
       "      <td>0.264315</td>\n",
       "      <td>0.004828</td>\n",
       "      <td>0.760448</td>\n",
       "      <td>0.713687</td>\n",
       "      <td>0.005675</td>\n",
       "      <td>0.002437</td>\n",
       "      <td>0.248097</td>\n",
       "    </tr>\n",
       "    <tr>\n",
       "      <th>4</th>\n",
       "      <td>8149</td>\n",
       "      <td>0.950153</td>\n",
       "      <td>0.732400</td>\n",
       "      <td>0.370678</td>\n",
       "      <td>0.000007</td>\n",
       "      <td>0.012006</td>\n",
       "      <td>0.002173</td>\n",
       "      <td>0.090641</td>\n",
       "      <td>0.189302</td>\n",
       "      <td>0.007360</td>\n",
       "      <td>0.632956</td>\n",
       "      <td>0.445838</td>\n",
       "      <td>0.004773</td>\n",
       "      <td>0.000943</td>\n",
       "      <td>0.003766</td>\n",
       "    </tr>\n",
       "  </tbody>\n",
       "</table>\n",
       "</div>"
      ],
      "text/plain": [
       "      id  service_a  service_b  service_c  service_d  service_e  service_f  \\\n",
       "0   7957   0.996111   0.584657   0.238870   0.001388   0.019783   0.000574   \n",
       "1    693   0.019739   0.050529   0.012728   0.015187   0.008748   0.000433   \n",
       "2  15558   0.487722   0.675694   0.389685   0.000448   0.036536   0.001525   \n",
       "3  15614   0.215258   0.138189   0.153444   0.000974   0.015145   0.000716   \n",
       "4   8149   0.950153   0.732400   0.370678   0.000007   0.012006   0.002173   \n",
       "\n",
       "   service_g  service_h  service_i  service_j  service_k  service_l  \\\n",
       "0   0.009386   0.058066   0.002894   0.882662   0.851720   0.000678   \n",
       "1   0.001483   0.070807   0.000115   0.921910   0.863017   0.002940   \n",
       "2   0.140556   0.147492   0.007126   0.734113   0.720647   0.002229   \n",
       "3   0.063738   0.264315   0.004828   0.760448   0.713687   0.005675   \n",
       "4   0.090641   0.189302   0.007360   0.632956   0.445838   0.004773   \n",
       "\n",
       "   service_m  service_n  \n",
       "0   0.000932   0.088832  \n",
       "1   0.002128   0.058844  \n",
       "2   0.000555   0.209823  \n",
       "3   0.002437   0.248097  \n",
       "4   0.000943   0.003766  "
      ]
     },
     "execution_count": 29,
     "metadata": {},
     "output_type": "execute_result"
    }
   ],
   "source": [
    "def fit_train(label,clf, X):\n",
    "    y = labels[label]\n",
    "    clf.fit(X,y)\n",
    "    return clf.predict_proba(encoded_data_predict)[:,1]\n",
    "   \n",
    "# инициализируем y_predicted, будем приписывать справа вероятности принадлежности к категории\n",
    "y_predicted = pd.read_csv('problem_test.csv', delimiter=',',low_memory=False)['id']\n",
    "\n",
    "for i,label in enumerate(labels.columns):\n",
    "    clf = LogisticRegression(penalty ='l1')\n",
    "    clf.set_params(**{'C':best_C[i,0]})\n",
    "    ser= pd.Series(fit_train(label, clf, X))\n",
    "    y_predicted = pd.concat([y_predicted,ser],axis=1)    \n",
    "\n",
    "# переименуем колонки\n",
    "y_predicted.columns = np.append(['id'],labels.columns.values)\n",
    "y_predicted.head()"
   ]
  },
  {
   "cell_type": "code",
   "execution_count": 30,
   "metadata": {},
   "outputs": [],
   "source": [
    "y_predicted.to_csv('problem_test_predicted_proba.csv', sep=',',index=False)"
   ]
  },
  {
   "cell_type": "markdown",
   "metadata": {},
   "source": [
    "Спасибо за внимание"
   ]
  }
 ],
 "metadata": {
  "kernelspec": {
   "display_name": "Python 3",
   "language": "python",
   "name": "python3"
  },
  "language_info": {
   "codemirror_mode": {
    "name": "ipython",
    "version": 3
   },
   "file_extension": ".py",
   "mimetype": "text/x-python",
   "name": "python",
   "nbconvert_exporter": "python",
   "pygments_lexer": "ipython3",
   "version": "3.6.4"
  }
 },
 "nbformat": 4,
 "nbformat_minor": 2
}
